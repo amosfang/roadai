{
 "cells": [
  {
   "cell_type": "markdown",
   "id": "5389fdc3",
   "metadata": {},
   "source": [
    "<div style=\"text-align: center;\">\n",
    "    <h1>Norwegian Artificial Intelligence Research Consortium</h1>\n",
    "</div>\n",
    "\n",
    "---\n",
    "\n",
    "<!-- <img src='photos/norge.png' style='float: left;' width=10% /> -->\n",
    "\n",
    "<div style=\"display: flex;\">\n",
    "    <img src='photos/nora.png' style=\"height: 30%; width: 30%;\" />\n",
    "    <img src='photos/norge.png' style=\"height: 30%; width: 10%;\"  />\n",
    "</div>"
   ]
  },
  {
   "cell_type": "markdown",
   "id": "51ad5da1",
   "metadata": {},
   "source": [
    "---\n",
    "\n",
    "<div style=\"text-align: center;\">\n",
    "    <h1>RoadAI - Reducing emissions in road construction</h1>\n",
    "</div>\n",
    "\n",
    "<img src='photos/roadai.png' width=80% />\n",
    "\n",
    "1.5% of Norwegian CO2 emission comes from construction machines. How can we use data to reduce this emission?\n",
    "\n",
    "The participants will be provided with data from a road construction site in Viken including GPS data from dump trucks, machine data including daily fuel consumption, and drone maps of the construction site. In addition, we have a small dataset of vibration data from a subset of dumpers, and of course public data such as weather, maps etc.\n",
    "\n",
    "The challenge is to demonstrate how the data can be exploited for road construction to become more sustainable. Sustainability can be interpreted as directly reduced emission, but also as minimizing construction time and impact on the surroundings. The current status is that many processes are manually controlled, and could benefit from automated decision support: This can for example be obtained through:\n",
    "\n",
    "* Reduction of idle time\n",
    "* Optimal flow of dump trucks on the construction site\n",
    "* Minimization of unnecessary driving\n",
    "* Optimal driving style with minimal acceleration\n",
    "* <mark>Automated classification of road types for improved planning</mark>\n",
    "* Automated progress reports\n",
    "* Automated detection of load cycles (when excavators fill the dumpers)\n",
    "\n",
    "---\n",
    "\n",
    "I will deliver my second solution for automated classification of road types for improved planning \n",
    "\n",
    "   - predict regimes or clusters based on vibration data"
   ]
  },
  {
   "cell_type": "markdown",
   "id": "d86be0fc",
   "metadata": {},
   "source": [
    "#### ---\n",
    "\n",
    "# Quick_Links\n",
    "\n",
    "Use the quick links to get to different sections of the notebook. \n",
    "\n",
    "Also, there is **Return to Home** at each section's end, where you can navigate quickly across sections.\n",
    "\n",
    "### A: Data Input\n",
    "- [1. Create Spark Session](#1_Start_Spark_Session)\n",
    "- [2. Data Ingestion](#2_Data_Ingestion)\n",
    "- [3. Exploratory Data Analysis](#3_Exploratory_Data_Analysis)\n",
    "\n",
    "### B: Data Preparation\n",
    "- [4. Data Preprocessing](#4_Data_Preprocessing)\n",
    "\n",
    "### C: Clustering\n",
    "- [5. Clustering](#5_Clustering)\n",
    "\n",
    "---"
   ]
  },
  {
   "cell_type": "code",
   "execution_count": 1,
   "id": "144d8b92",
   "metadata": {},
   "outputs": [
    {
     "name": "stdout",
     "output_type": "stream",
     "text": [
      "Requirement already satisfied: pyspark==3.4.0 in /home/user/anaconda3/lib/python3.9/site-packages (from -r requirements.txt (line 1)) (3.4.0)\n",
      "Requirement already satisfied: matplotlib==3.7.1 in /home/user/anaconda3/lib/python3.9/site-packages (from -r requirements.txt (line 2)) (3.7.1)\n",
      "Requirement already satisfied: numpy==1.23.5 in /home/user/anaconda3/lib/python3.9/site-packages (from -r requirements.txt (line 3)) (1.23.5)\n",
      "Requirement already satisfied: pandas==1.3.5 in /home/user/anaconda3/lib/python3.9/site-packages (from -r requirements.txt (line 4)) (1.3.5)\n",
      "Requirement already satisfied: gmplot==1.4.1 in /home/user/anaconda3/lib/python3.9/site-packages (from -r requirements.txt (line 5)) (1.4.1)\n",
      "Requirement already satisfied: h5py==3.7.0 in /home/user/anaconda3/lib/python3.9/site-packages (from -r requirements.txt (line 6)) (3.7.0)\n",
      "Requirement already satisfied: py4j==0.10.9.7 in /home/user/anaconda3/lib/python3.9/site-packages (from pyspark==3.4.0->-r requirements.txt (line 1)) (0.10.9.7)\n",
      "Requirement already satisfied: fonttools>=4.22.0 in /home/user/anaconda3/lib/python3.9/site-packages (from matplotlib==3.7.1->-r requirements.txt (line 2)) (4.38.0)\n",
      "Requirement already satisfied: pyparsing>=2.3.1 in /home/user/anaconda3/lib/python3.9/site-packages (from matplotlib==3.7.1->-r requirements.txt (line 2)) (3.0.9)\n",
      "Requirement already satisfied: kiwisolver>=1.0.1 in /home/user/anaconda3/lib/python3.9/site-packages (from matplotlib==3.7.1->-r requirements.txt (line 2)) (1.4.4)\n",
      "Requirement already satisfied: packaging>=20.0 in /home/user/anaconda3/lib/python3.9/site-packages (from matplotlib==3.7.1->-r requirements.txt (line 2)) (22.0)\n",
      "Requirement already satisfied: cycler>=0.10 in /home/user/anaconda3/lib/python3.9/site-packages (from matplotlib==3.7.1->-r requirements.txt (line 2)) (0.11.0)\n",
      "Requirement already satisfied: python-dateutil>=2.7 in /home/user/anaconda3/lib/python3.9/site-packages (from matplotlib==3.7.1->-r requirements.txt (line 2)) (2.8.2)\n",
      "Requirement already satisfied: importlib-resources>=3.2.0 in /home/user/anaconda3/lib/python3.9/site-packages (from matplotlib==3.7.1->-r requirements.txt (line 2)) (5.10.1)\n",
      "Requirement already satisfied: pillow>=6.2.0 in /home/user/anaconda3/lib/python3.9/site-packages (from matplotlib==3.7.1->-r requirements.txt (line 2)) (7.0.0)\n",
      "Requirement already satisfied: contourpy>=1.0.1 in /home/user/anaconda3/lib/python3.9/site-packages (from matplotlib==3.7.1->-r requirements.txt (line 2)) (1.0.7)\n",
      "Requirement already satisfied: pytz>=2017.3 in /home/user/anaconda3/lib/python3.9/site-packages (from pandas==1.3.5->-r requirements.txt (line 4)) (2022.7)\n",
      "Requirement already satisfied: requests in /home/user/anaconda3/lib/python3.9/site-packages (from gmplot==1.4.1->-r requirements.txt (line 5)) (2.28.1)\n",
      "Requirement already satisfied: zipp>=3.1.0 in /home/user/anaconda3/lib/python3.9/site-packages (from importlib-resources>=3.2.0->matplotlib==3.7.1->-r requirements.txt (line 2)) (3.11.0)\n",
      "Requirement already satisfied: six>=1.5 in /home/user/anaconda3/lib/python3.9/site-packages (from python-dateutil>=2.7->matplotlib==3.7.1->-r requirements.txt (line 2)) (1.16.0)\n",
      "Requirement already satisfied: charset-normalizer<3,>=2 in /home/user/anaconda3/lib/python3.9/site-packages (from requests->gmplot==1.4.1->-r requirements.txt (line 5)) (2.1.1)\n",
      "Requirement already satisfied: certifi>=2017.4.17 in /home/user/anaconda3/lib/python3.9/site-packages (from requests->gmplot==1.4.1->-r requirements.txt (line 5)) (2022.12.7)\n",
      "Requirement already satisfied: urllib3<1.27,>=1.21.1 in /home/user/anaconda3/lib/python3.9/site-packages (from requests->gmplot==1.4.1->-r requirements.txt (line 5)) (1.26.13)\n",
      "Requirement already satisfied: idna<4,>=2.5 in /home/user/anaconda3/lib/python3.9/site-packages (from requests->gmplot==1.4.1->-r requirements.txt (line 5)) (3.4)\n"
     ]
    }
   ],
   "source": [
    "# Uncomment to install the required packages\n",
    "!pip install -r requirements.txt"
   ]
  },
  {
   "cell_type": "code",
   "execution_count": 2,
   "id": "16e1754f",
   "metadata": {},
   "outputs": [],
   "source": [
    "import numpy as np\n",
    "import pandas as pd\n",
    "import matplotlib.pyplot as plt"
   ]
  },
  {
   "cell_type": "markdown",
   "id": "88ba6763",
   "metadata": {},
   "source": [
    "# 1_Start_Spark_Session\n",
    "\n",
    "## Create a SparkSession\n",
    "\n",
    "The SparkSession.builder method creates a new instance of the SparkSession class. The timezone is set here to `UTC` so that datetime values are not adjusted to the timezone of the local machine.\n",
    "\n",
    "> **Background -** SparkSession is the entry point to using Spark functionality in a Python application. It provides various methods for creating DataFrames, executing SQL queries, and interacting with Spark's distributed computing capabilities."
   ]
  },
  {
   "cell_type": "code",
   "execution_count": 3,
   "id": "655d7acf",
   "metadata": {},
   "outputs": [
    {
     "name": "stderr",
     "output_type": "stream",
     "text": [
      "Setting default log level to \"WARN\".\n",
      "To adjust logging level use sc.setLogLevel(newLevel). For SparkR, use setLogLevel(newLevel).\n"
     ]
    },
    {
     "name": "stdout",
     "output_type": "stream",
     "text": [
      "PySpark version: 3.4.0\n"
     ]
    }
   ],
   "source": [
    "from pyspark.sql import SparkSession\n",
    "from pyspark.sql.functions import current_timestamp\n",
    "\n",
    "# Create SparkSession with timezone configuration set to UTC\n",
    "spark = SparkSession.builder \\\n",
    "    .appName(\"Spark Timestamp Example\") \\\n",
    "    .config(\"spark.sql.session.timeZone\", \"UTC\") \\\n",
    "    .getOrCreate()\n",
    "\n",
    "# I invoked suppress all Spark warnings\n",
    "spark.sparkContext.setLogLevel(\"ERROR\")  # or \"FATAL\" for even less output\n",
    "\n",
    "# Print the Spark version\n",
    "print(\"PySpark version:\", spark.version)"
   ]
  },
  {
   "cell_type": "markdown",
   "id": "be2f8ff7",
   "metadata": {},
   "source": [
    "# 2_Data_Ingestion\n",
    "\n",
    "Data is ingested from h5 files to Spark dataframe.\n",
    "\n",
    "Here are the datasets that are used for this project.\n",
    "\n",
    "* **Vibration data**\n",
    " > contains data recorded from iPads. \n",
    " > * Folder hierarchy is `\"vibration/2023-04-2X/*.h5\"`"
   ]
  },
  {
   "cell_type": "code",
   "execution_count": 4,
   "id": "1168943f",
   "metadata": {},
   "outputs": [],
   "source": [
    "REPORTING_DATE = \"2023-04-26\"      # Change date here\n",
    "FILE_REPORTING_DATE = \"20230426\"  # Change date here\n",
    "\n",
    "# REPORTING_DATE = \"2023-04-27\"      # Change date here\n",
    "# FILE_REPORTING_DATE = \"20230427\"  # Change date here"
   ]
  },
  {
   "cell_type": "markdown",
   "id": "70c18509",
   "metadata": {},
   "source": [
    "---\n",
    "\n",
    "## 2.1 Input and Fetch Data (`vibration`)\n",
    "\n",
    "* Read `*.h5` files from the `vibration` folder"
   ]
  },
  {
   "cell_type": "code",
   "execution_count": 5,
   "id": "4bfc6f07",
   "metadata": {},
   "outputs": [],
   "source": [
    "from pyspark.sql.types import StructType, StructField, StringType, DoubleType, LongType, TimestampType\n",
    "\n",
    "# Define the schema for the empty DataFrame\n",
    "schema = StructType([\n",
    "    StructField(\"TripLogId\", StringType(), True),\n",
    "    StructField(\"Timestamp\", StringType(), True),   \n",
    "    StructField(\"AttitudeReferenceFrame\", LongType(), True),\n",
    "    StructField(\"Gravity_X\", DoubleType(), True),\n",
    "    StructField(\"Gravity_Y\", DoubleType(), True),\n",
    "    StructField(\"Gravity_Z\", DoubleType(), True),\n",
    "    StructField(\"Attitude_Roll\", DoubleType(), True),\n",
    "    StructField(\"Attitude_Pitch\", DoubleType(), True),\n",
    "    StructField(\"Attitude_Yaw\", DoubleType(), True),\n",
    "    StructField(\"RotationRate_X\", DoubleType(), True),\n",
    "    StructField(\"RotationRate_Y\", DoubleType(), True),\n",
    "    StructField(\"RotationRate_Z\", DoubleType(), True),\n",
    "    StructField(\"UserAcceleration_X\", DoubleType(), True),\n",
    "    StructField(\"UserAcceleration_Y\", DoubleType(), True),\n",
    "    StructField(\"UserAcceleration_Z\", DoubleType(), True)\n",
    "])\n",
    "\n",
    "columns_to_retain = [\"TripLogId\", \"Timestamp\", \"AttitudeReferenceFrame\", \n",
    "                     \"Gravity.X\", \"Gravity.Y\", \"Gravity.Z\", \"Attitude.Roll\", \n",
    "                     \"Attitude.Pitch\", \"Attitude.Yaw\", \"RotationRate.X\", \"RotationRate.Y\", \n",
    "                    \"RotationRate.Z\", \"UserAcceleration.X\", \"UserAcceleration.Y\", \"UserAcceleration.Z\"]\n",
    "\n",
    "# Create an empty DataFrame with the specified schema\n",
    "vibration_df = spark.createDataFrame([], schema)"
   ]
  },
  {
   "cell_type": "markdown",
   "id": "3ef972d0",
   "metadata": {},
   "source": [
    "* Uncomment and run below code segment when reading `h5` files for the first time"
   ]
  },
  {
   "cell_type": "code",
   "execution_count": 6,
   "id": "0972926e",
   "metadata": {},
   "outputs": [],
   "source": [
    "# import os\n",
    "\n",
    "# # Read H5 files into pandas DataFrames\n",
    "# h5_folder_path = \"vibration/2023-04-27/\"\n",
    "\n",
    "# # Iterate through the H5 files\n",
    "# for file_name in os.listdir(h5_folder_path):\n",
    "#     if file_name.endswith(\".h5\"):\n",
    "#         file_path = os.path.join(h5_folder_path, file_name)\n",
    "        \n",
    "#         # Read the H5 file using pandas\n",
    "#         pandas_df = pd.read_hdf(file_path).drop_duplicates()\n",
    "        \n",
    "#         # convert datetime to hh:mm:ss and then agg max by the formatted time stamp\n",
    "#         pandas_df['Timestamp'] = pandas_df['Timestamp'].dt.strftime('%H:%M:%S')\n",
    "#         pandas_df = pandas_df.groupby('Timestamp').max().reset_index()\n",
    "#         pandas_df = pandas_df[columns_to_retain]\n",
    "        \n",
    "#         # Convert pandas DataFrame to Spark DataFrame\n",
    "#         spark_df = spark.createDataFrame(pandas_df)\n",
    "        \n",
    "#         vibration_df = vibration_df.union(spark_df)\n",
    "\n",
    "# # Show the merged Spark DataFrame\n",
    "# vibration_df.show()"
   ]
  },
  {
   "cell_type": "code",
   "execution_count": 7,
   "id": "8d70d790",
   "metadata": {},
   "outputs": [],
   "source": [
    "# # Display the summary of the trips dataframe\n",
    "# summary_df = vibration_df.describe().toPandas()\n",
    "# summary_df.set_index('summary')"
   ]
  },
  {
   "cell_type": "code",
   "execution_count": 8,
   "id": "91cb0513",
   "metadata": {},
   "outputs": [],
   "source": [
    "# output_path = 'vibration_{}'.format(REPORTING_DATE).replace(\"-\", \"\")\n",
    "\n",
    "# # Write the DataFrame to a CSV file\n",
    "# vibration_df.write.format(\"csv\").option(\"header\", \"true\").mode(\"overwrite\").save(output_path)"
   ]
  },
  {
   "cell_type": "markdown",
   "id": "1d9e34bd",
   "metadata": {},
   "source": [
    "## 2.2 Read multiple csv files from `joined_trips`\n",
    "\n",
    "* Read trips into Spark dataframe"
   ]
  },
  {
   "cell_type": "code",
   "execution_count": 9,
   "id": "2d5ccf86",
   "metadata": {},
   "outputs": [
    {
     "name": "stderr",
     "output_type": "stream",
     "text": [
      "                                                                                \r"
     ]
    }
   ],
   "source": [
    "# Specify the file path or pattern to the CSV files\n",
    "file_path = f\"joined_trips_{FILE_REPORTING_DATE}/*.csv\"\n",
    "\n",
    "# Read the CSV files into a Spark DataFrame\n",
    "trips_df = spark.read.csv(file_path, header=True, inferSchema=True)"
   ]
  },
  {
   "cell_type": "code",
   "execution_count": 10,
   "id": "a12cb061",
   "metadata": {},
   "outputs": [
    {
     "name": "stdout",
     "output_type": "stream",
     "text": [
      "+--------------------+----------+-------------------+--------------------+--------------------+------------------+-----------------+------------------+-----------------+------------------+-----------------+----------------+------------------+-----------------+------------------+-----------------+------------------+--------+\n",
      "|           TripLogId|      Date|Timestamp_formatted|           StartTime|             EndTime|         Longitude|         Latitude|     LoadLongitude|     LoadLatitude|     DumpLongitude|     DumpLatitude|MassTypeMaterial|    StartLongitude|    StartLatitude|      EndLongitude|      EndLatitude|       speedInKmHr|Quantity|\n",
      "+--------------------+----------+-------------------+--------------------+--------------------+------------------+-----------------+------------------+-----------------+------------------+-----------------+----------------+------------------+-----------------+------------------+-----------------+------------------+--------+\n",
      "|6448b309b35f74000...|2023-04-26|26-04-2023 05:10:00|2023-04-26 05:10:...|2023-04-26 05:19:...|10.376120287792515|59.95253405375097|10.376120287792515|59.95253405375097|10.374546092980282|59.95212751053856|           Stone|10.376120287792515|59.95253405375097|10.373446527953037|59.95308988258081|               0.0|      40|\n",
      "|6448b309b35f74000...|2023-04-26|26-04-2023 05:17:09|2023-04-26 05:10:...|2023-04-26 05:19:...|10.374700468646925|59.95219765259666|10.376120287792515|59.95253405375097|10.374546092980282|59.95212751053856|           Stone|10.376120287792515|59.95253405375097|10.373446527953037|59.95308988258081|0.7347128443671733|      40|\n",
      "|6448b309b35f74000...|2023-04-26|26-04-2023 05:17:13|2023-04-26 05:10:...|2023-04-26 05:19:...|10.374909728087086|59.95213292511867|10.376120287792515|59.95253405375097|10.374546092980282|59.95212751053856|           Stone|10.376120287792515|59.95253405375097|10.373446527953037|59.95308988258081|11.925900804270773|      40|\n",
      "|6448b309b35f74000...|2023-04-26|26-04-2023 05:17:15|2023-04-26 05:10:...|2023-04-26 05:19:...|10.375038808168664|59.95201441824466|10.376120287792515|59.95253405375097|10.374546092980282|59.95212751053856|           Stone|10.376120287792515|59.95253405375097|10.373446527953037|59.95308988258081|28.439660397033162|      40|\n",
      "|6448b309b35f74000...|2023-04-26|26-04-2023 05:17:17|2023-04-26 05:10:...|2023-04-26 05:19:...|10.375164655213432|59.95191189504423|10.376120287792515|59.95253405375097|10.374546092980282|59.95212751053856|           Stone|10.376120287792515|59.95253405375097|10.373446527953037|59.95308988258081| 25.35399269778508|      40|\n",
      "+--------------------+----------+-------------------+--------------------+--------------------+------------------+-----------------+------------------+-----------------+------------------+-----------------+----------------+------------------+-----------------+------------------+-----------------+------------------+--------+\n",
      "only showing top 5 rows\n",
      "\n"
     ]
    }
   ],
   "source": [
    "trips_df.show(5)"
   ]
  },
  {
   "cell_type": "code",
   "execution_count": 11,
   "id": "46fedbf5",
   "metadata": {},
   "outputs": [],
   "source": [
    "from pyspark.sql.functions import col, to_timestamp\n",
    "\n",
    "# Convert string column to timestamp\n",
    "trips_df = trips_df.withColumn(\"Timestamp_formatted\", to_timestamp(col(\"Timestamp_formatted\"), \"dd-MM-yyyy HH:mm:ss\"))"
   ]
  },
  {
   "cell_type": "code",
   "execution_count": 12,
   "id": "ebff84b9",
   "metadata": {},
   "outputs": [
    {
     "name": "stdout",
     "output_type": "stream",
     "text": [
      "root\n",
      " |-- TripLogId: string (nullable = true)\n",
      " |-- Date: date (nullable = true)\n",
      " |-- Timestamp_formatted: timestamp (nullable = true)\n",
      " |-- StartTime: timestamp (nullable = true)\n",
      " |-- EndTime: timestamp (nullable = true)\n",
      " |-- Longitude: double (nullable = true)\n",
      " |-- Latitude: double (nullable = true)\n",
      " |-- LoadLongitude: double (nullable = true)\n",
      " |-- LoadLatitude: double (nullable = true)\n",
      " |-- DumpLongitude: double (nullable = true)\n",
      " |-- DumpLatitude: double (nullable = true)\n",
      " |-- MassTypeMaterial: string (nullable = true)\n",
      " |-- StartLongitude: double (nullable = true)\n",
      " |-- StartLatitude: double (nullable = true)\n",
      " |-- EndLongitude: double (nullable = true)\n",
      " |-- EndLatitude: double (nullable = true)\n",
      " |-- speedInKmHr: double (nullable = true)\n",
      " |-- Quantity: integer (nullable = true)\n",
      "\n"
     ]
    }
   ],
   "source": [
    "trips_df.printSchema()"
   ]
  },
  {
   "cell_type": "markdown",
   "id": "591d24db",
   "metadata": {},
   "source": [
    "## 2.3 Read multiple csv files from `vibration_27042023`\n",
    "\n",
    "* Read vibration into Spark dataframe"
   ]
  },
  {
   "cell_type": "code",
   "execution_count": 13,
   "id": "6b097885",
   "metadata": {},
   "outputs": [
    {
     "name": "stderr",
     "output_type": "stream",
     "text": [
      "                                                                                \r"
     ]
    }
   ],
   "source": [
    "# Specify the file path or pattern to the CSV files\n",
    "file_path = f\"vibration_{FILE_REPORTING_DATE}/*.csv\"\n",
    "\n",
    "# Read the CSV files into a Spark DataFrame\n",
    "vibration_df = spark.read.csv(file_path, header=True, schema=schema)"
   ]
  },
  {
   "cell_type": "code",
   "execution_count": 14,
   "id": "e0827ce3",
   "metadata": {},
   "outputs": [],
   "source": [
    "# df = pd.read_hdf('vibration/2023-04-26/error/6448fa70945af60000430588_2.h5')"
   ]
  },
  {
   "cell_type": "code",
   "execution_count": 15,
   "id": "21a2c5c4",
   "metadata": {},
   "outputs": [],
   "source": [
    "from pyspark.sql.functions import concat, lit, hour\n",
    "\n",
    "\n",
    "# Combine date and timestamp as strings\n",
    "combined_datetime_expr = concat(lit(REPORTING_DATE), lit(\" \"), col(\"Timestamp\"))\n",
    "\n",
    "# Convert combined datetime to a timestamp\n",
    "# Convert string column to timestamp\n",
    "vibration_df = vibration_df.withColumn(\"Timestamp\", to_timestamp(combined_datetime_expr, \"yyyy-MM-dd HH:mm:ss\")\n",
    "                                      )\n",
    "vibration_df = vibration_df.withColumn(\"Hour\", hour(col(\"Timestamp\"))\n",
    "                                      )"
   ]
  },
  {
   "cell_type": "code",
   "execution_count": 16,
   "id": "b59405a4",
   "metadata": {},
   "outputs": [],
   "source": [
    "# Convert Accelerometer X, Y, Z values to magnitude\n",
    "from pyspark.sql.functions import sqrt\n",
    "\n",
    "vibration_df= vibration_df.withColumn(\"RotationRate\", \n",
    "                                      sqrt(col(\"RotationRate_X\")**2 + col(\"RotationRate_Y\")**2 + col(\"RotationRate_Z\")**2)\n",
    "                                     )\n",
    "vibration_df= vibration_df.withColumn(\"Gravity\", \n",
    "                                      sqrt(col(\"Gravity_X\")**2 + col(\"Gravity_Y\")**2 + col(\"Gravity_Z\")**2)\n",
    "                                     )\n",
    "vibration_df= vibration_df.withColumn(\"UserAcceleration\", \n",
    "                                      sqrt(col(\"UserAcceleration_X\")**2 + col(\"UserAcceleration_Y\")**2 + col(\"UserAcceleration_Z\")**2)\n",
    "                                     )"
   ]
  },
  {
   "cell_type": "code",
   "execution_count": 17,
   "id": "4807cb50",
   "metadata": {},
   "outputs": [
    {
     "name": "stdout",
     "output_type": "stream",
     "text": [
      "+--------------------+-------------------+----------------------+-------------------+--------------------+--------------------+-------------------+--------------------+-------------------+--------------------+--------------------+--------------------+--------------------+--------------------+--------------------+----+--------------------+------------------+--------------------+\n",
      "|           TripLogId|          Timestamp|AttitudeReferenceFrame|          Gravity_X|           Gravity_Y|           Gravity_Z|      Attitude_Roll|      Attitude_Pitch|       Attitude_Yaw|      RotationRate_X|      RotationRate_Y|      RotationRate_Z|  UserAcceleration_X|  UserAcceleration_Y|  UserAcceleration_Z|Hour|        RotationRate|           Gravity|    UserAcceleration|\n",
      "+--------------------+-------------------+----------------------+-------------------+--------------------+--------------------+-------------------+--------------------+-------------------+--------------------+--------------------+--------------------+--------------------+--------------------+--------------------+----+--------------------+------------------+--------------------+\n",
      "|6448e843066abe000...|2023-04-26 09:31:00|                     3|-0.9949817061424255|-0.02109455317258835|-0.09770001471042633|-1.4728261884379519|0.021249722052664136|-1.7103263376542637|0.002944838255643...| 0.00114820571616292|0.002031323499977...|4.832148551940918E-4|0.001518545672297...|0.002692565321922...|   9|0.003757222894651...|0.9999894342472128|0.003128799381224721|\n",
      "|6448e843066abe000...|2023-04-26 09:31:01|                     3|-0.9949688911437988|-0.02109119668602...| -0.0977301076054573|-1.4727169203543493| 0.02130677610574839|-1.7101869586889291|0.002572494558990...| 8.71575903147459E-4|0.001478382851928...|4.708170890808105...|0.001669051125645...|0.003577232360839...|   9|0.003092408231113...|0.9999795532180363|0.003975423468616809|\n",
      "|6448e843066abe000...|2023-04-26 09:31:02|                     3|-0.9949787855148315|-0.02114810422062874|-0.09774067997932434|-1.4728102228691513| 0.02126139665438973|-1.7100534423008633|0.001405888237059...|0.004545930773019791|0.001477002166211605|3.535747528076172E-4|0.001484630629420...|0.003316700458526...|   9|0.004982323125529222|0.9999916331947565|0.003650978655542...|\n",
      "|6448e843066abe000...|2023-04-26 09:31:03|                     3|-0.9949832558631897|-0.02104792557656765|-0.09756094962358475|-1.4728511690976782| 0.02121391713793054|-1.7099494499813623|0.002495860680937767|0.003690482582896948|0.002557863015681505|3.759860992431640...|0.001619011163711...|0.003009095788002014|   9|0.005137279965147...|0.9999764164772317|0.003437618384349574|\n",
      "|6448e843066abe000...|2023-04-26 09:31:04|                     3|-0.9949967265129089| -0.0210291538387537|-0.09756146371364594|-1.4729694942755294| 0.02112731613365152|-1.7099799569607965|0.002421361394226551|0.002213255502283573|0.002724665217101574|8.821487426757812E-5|6.215889006853104E-4|0.002714335918426...|   9|0.004264421586232115|0.9999894750868769|0.002785996070269...|\n",
      "+--------------------+-------------------+----------------------+-------------------+--------------------+--------------------+-------------------+--------------------+-------------------+--------------------+--------------------+--------------------+--------------------+--------------------+--------------------+----+--------------------+------------------+--------------------+\n",
      "only showing top 5 rows\n",
      "\n"
     ]
    }
   ],
   "source": [
    "vibration_df.show(5)"
   ]
  },
  {
   "cell_type": "markdown",
   "id": "b59ac167",
   "metadata": {},
   "source": [
    "## Return to Home\n",
    "\n",
    "[Go Back to Quick Links](#Quick_Links)\n",
    "\n",
    "---"
   ]
  },
  {
   "cell_type": "markdown",
   "id": "ee7726cf",
   "metadata": {},
   "source": [
    "---\n",
    "# 3_Data_Visualization\n",
    "\n",
    "Preview the vibration profile"
   ]
  },
  {
   "cell_type": "code",
   "execution_count": 18,
   "id": "d97208fb",
   "metadata": {},
   "outputs": [
    {
     "name": "stderr",
     "output_type": "stream",
     "text": [
      "                                                                                \r"
     ]
    },
    {
     "data": {
      "text/html": [
       "<div>\n",
       "<style scoped>\n",
       "    .dataframe tbody tr th:only-of-type {\n",
       "        vertical-align: middle;\n",
       "    }\n",
       "\n",
       "    .dataframe tbody tr th {\n",
       "        vertical-align: top;\n",
       "    }\n",
       "\n",
       "    .dataframe thead th {\n",
       "        text-align: right;\n",
       "    }\n",
       "</style>\n",
       "<table border=\"1\" class=\"dataframe\">\n",
       "  <thead>\n",
       "    <tr style=\"text-align: right;\">\n",
       "      <th></th>\n",
       "      <th>TripLogId</th>\n",
       "    </tr>\n",
       "  </thead>\n",
       "  <tbody>\n",
       "    <tr>\n",
       "      <th>count</th>\n",
       "      <td>284</td>\n",
       "    </tr>\n",
       "    <tr>\n",
       "      <th>unique</th>\n",
       "      <td>284</td>\n",
       "    </tr>\n",
       "    <tr>\n",
       "      <th>top</th>\n",
       "      <td>6448d3281a5c3c00003909d0</td>\n",
       "    </tr>\n",
       "    <tr>\n",
       "      <th>freq</th>\n",
       "      <td>1</td>\n",
       "    </tr>\n",
       "  </tbody>\n",
       "</table>\n",
       "</div>"
      ],
      "text/plain": [
       "                       TripLogId\n",
       "count                        284\n",
       "unique                       284\n",
       "top     6448d3281a5c3c00003909d0\n",
       "freq                           1"
      ]
     },
     "execution_count": 18,
     "metadata": {},
     "output_type": "execute_result"
    }
   ],
   "source": [
    "# Get unique triplog ids\n",
    "unique_trip_ids_df = vibration_df.select('TripLogId').distinct()\n",
    "unique_trip_ids_df = unique_trip_ids_df.toPandas()\n",
    "\n",
    "unique_trip_ids_df.describe()"
   ]
  },
  {
   "cell_type": "code",
   "execution_count": 19,
   "id": "4faa63be",
   "metadata": {},
   "outputs": [
    {
     "name": "stdout",
     "output_type": "stream",
     "text": [
      "644910f3dc5f980000c7c785\n"
     ]
    }
   ],
   "source": [
    "import random\n",
    "\n",
    "rand_num = random.randint(0, unique_trip_ids_df.shape[0] - 1)\n",
    "triplogid = unique_trip_ids_df.loc[rand_num, 'TripLogId']\n",
    "\n",
    "# forced user-defined trip id\n",
    "# triplogid = '644a380c3d829d000016991f'\n",
    "\n",
    "print(triplogid)"
   ]
  },
  {
   "cell_type": "code",
   "execution_count": 20,
   "id": "fe6e42cd",
   "metadata": {},
   "outputs": [],
   "source": [
    "# User-defined Trip Log ID\n",
    "TRIPLOGID = triplogid"
   ]
  },
  {
   "cell_type": "code",
   "execution_count": 21,
   "id": "9677b320",
   "metadata": {},
   "outputs": [],
   "source": [
    "# Register the DataFrame as a temporary view\n",
    "vibration_df.createOrReplaceTempView(\"vibration_df\")\n",
    "\n",
    "query = \"\"\"\n",
    "\n",
    "    SELECT TripLogId, Timestamp, AttitudeReferenceFrame, Gravity,\n",
    "    Attitude_Roll, Attitude_Pitch, Attitude_Yaw, RotationRate,\n",
    "    UserAcceleration\n",
    "    FROM vibration_df\n",
    "    WHERE TRIPLOGID =: triplogid\n",
    "    ORDER BY Timestamp ASC\n",
    "\"\"\"\n",
    "\n",
    "# Execute the queries\n",
    "result = spark.sql(query, {\"triplogid\": TRIPLOGID})"
   ]
  },
  {
   "cell_type": "code",
   "execution_count": 22,
   "id": "4695514c",
   "metadata": {
    "scrolled": true
   },
   "outputs": [
    {
     "name": "stderr",
     "output_type": "stream",
     "text": [
      "                                                                                \r"
     ]
    }
   ],
   "source": [
    "result = result.toPandas()"
   ]
  },
  {
   "cell_type": "code",
   "execution_count": 23,
   "id": "29114b0b",
   "metadata": {},
   "outputs": [],
   "source": [
    "plot_y_axis = \"UserAcceleration\""
   ]
  },
  {
   "cell_type": "code",
   "execution_count": 24,
   "id": "b9ecad4d",
   "metadata": {
    "scrolled": true
   },
   "outputs": [
    {
     "data": {
      "image/png": "[encoded data removed]",
      "text/plain": [
       "<Figure size 1200x500 with 2 Axes>"
      ]
     },
     "metadata": {},
     "output_type": "display_data"
    }
   ],
   "source": [
    "# Plot the speed-time interval chart\n",
    "timestamp = result['Timestamp']\n",
    "TimeInterval = len(timestamp) // 2\n",
    "\n",
    "# Change step for every numbers of steps then a point is plotted\n",
    "step = 5\n",
    "\n",
    "# Create the plot figure with two subplots\n",
    "fig, (ax1, ax2) = plt.subplots(2, 1, figsize=(12, 5))\n",
    "\n",
    "# Plot the data on the first subplot\n",
    "ax1.plot(timestamp[:TimeInterval:step], result[plot_y_axis][:TimeInterval:step])\n",
    "\n",
    "# Selectively display x-axis labels\n",
    "x = timestamp[:TimeInterval:step].tolist()\n",
    "xlabel = [str(x_elem)[-8:] for x_elem in x]\n",
    "ax1.set_xticks(x)\n",
    "ax1.set_xticklabels(xlabel, rotation=45)\n",
    "ax1.set_xlabel('Time')\n",
    "ax1.set_ylabel('meters per second')\n",
    "ax1.set_title(\"{} (First Half) Trip - {}\".format(plot_y_axis, TRIPLOGID))\n",
    "\n",
    "# Plot the data on the second subplot\n",
    "ax2.plot(timestamp[TimeInterval::step], result[plot_y_axis][TimeInterval::step])\n",
    "\n",
    "# Selectively display x-axis labels\n",
    "x = timestamp[TimeInterval::step].tolist()\n",
    "xlabel = [str(x_elem)[-8:] for x_elem in x]\n",
    "ax2.set_xticks(x)\n",
    "ax2.set_xticklabels(xlabel, rotation=45)\n",
    "ax2.set_xlabel('Time')\n",
    "ax2.set_ylabel('meters per second')\n",
    "ax2.set_title(\"{} (Second Half) Trip - {}\".format(plot_y_axis, TRIPLOGID))\n",
    "\n",
    "# Adjust spacing between subplots\n",
    "fig.tight_layout()\n",
    "\n",
    "# Show the plot\n",
    "plt.show()"
   ]
  },
  {
   "cell_type": "code",
   "execution_count": 25,
   "id": "76f969e9",
   "metadata": {},
   "outputs": [
    {
     "name": "stdout",
     "output_type": "stream",
     "text": [
      "root\n",
      " |-- TripLogId: string (nullable = true)\n",
      " |-- Timestamp: timestamp (nullable = true)\n",
      " |-- AttitudeReferenceFrame: long (nullable = true)\n",
      " |-- Gravity_X: double (nullable = true)\n",
      " |-- Gravity_Y: double (nullable = true)\n",
      " |-- Gravity_Z: double (nullable = true)\n",
      " |-- Attitude_Roll: double (nullable = true)\n",
      " |-- Attitude_Pitch: double (nullable = true)\n",
      " |-- Attitude_Yaw: double (nullable = true)\n",
      " |-- RotationRate_X: double (nullable = true)\n",
      " |-- RotationRate_Y: double (nullable = true)\n",
      " |-- RotationRate_Z: double (nullable = true)\n",
      " |-- UserAcceleration_X: double (nullable = true)\n",
      " |-- UserAcceleration_Y: double (nullable = true)\n",
      " |-- UserAcceleration_Z: double (nullable = true)\n",
      " |-- Hour: integer (nullable = true)\n",
      " |-- RotationRate: double (nullable = true)\n",
      " |-- Gravity: double (nullable = true)\n",
      " |-- UserAcceleration: double (nullable = true)\n",
      "\n"
     ]
    }
   ],
   "source": [
    "vibration_df.printSchema()"
   ]
  },
  {
   "cell_type": "code",
   "execution_count": 26,
   "id": "aafb3353",
   "metadata": {},
   "outputs": [
    {
     "data": {
      "text/html": [
       "<div>\n",
       "<style scoped>\n",
       "    .dataframe tbody tr th:only-of-type {\n",
       "        vertical-align: middle;\n",
       "    }\n",
       "\n",
       "    .dataframe tbody tr th {\n",
       "        vertical-align: top;\n",
       "    }\n",
       "\n",
       "    .dataframe thead th {\n",
       "        text-align: right;\n",
       "    }\n",
       "</style>\n",
       "<table border=\"1\" class=\"dataframe\">\n",
       "  <thead>\n",
       "    <tr style=\"text-align: right;\">\n",
       "      <th></th>\n",
       "      <th>TripLogId</th>\n",
       "      <th>Timestamp</th>\n",
       "      <th>AttitudeReferenceFrame</th>\n",
       "      <th>Gravity</th>\n",
       "      <th>Attitude_Roll</th>\n",
       "      <th>Attitude_Pitch</th>\n",
       "      <th>Attitude_Yaw</th>\n",
       "      <th>RotationRate</th>\n",
       "      <th>UserAcceleration</th>\n",
       "    </tr>\n",
       "  </thead>\n",
       "  <tbody>\n",
       "    <tr>\n",
       "      <th>0</th>\n",
       "      <td>644910f3dc5f980000c7c785</td>\n",
       "      <td>2023-04-26 11:54:28</td>\n",
       "      <td>3</td>\n",
       "      <td>1.000000</td>\n",
       "      <td>-2.147229</td>\n",
       "      <td>-1.463775</td>\n",
       "      <td>0.074891</td>\n",
       "      <td>0.026729</td>\n",
       "      <td>0.035318</td>\n",
       "    </tr>\n",
       "    <tr>\n",
       "      <th>1</th>\n",
       "      <td>644910f3dc5f980000c7c785</td>\n",
       "      <td>2023-04-26 11:54:29</td>\n",
       "      <td>3</td>\n",
       "      <td>1.000320</td>\n",
       "      <td>-2.007547</td>\n",
       "      <td>-1.461505</td>\n",
       "      <td>0.186650</td>\n",
       "      <td>0.068063</td>\n",
       "      <td>0.267041</td>\n",
       "    </tr>\n",
       "    <tr>\n",
       "      <th>2</th>\n",
       "      <td>644910f3dc5f980000c7c785</td>\n",
       "      <td>2023-04-26 11:54:30</td>\n",
       "      <td>3</td>\n",
       "      <td>1.000228</td>\n",
       "      <td>-1.956213</td>\n",
       "      <td>-1.463443</td>\n",
       "      <td>0.272002</td>\n",
       "      <td>0.198828</td>\n",
       "      <td>0.191946</td>\n",
       "    </tr>\n",
       "    <tr>\n",
       "      <th>3</th>\n",
       "      <td>644910f3dc5f980000c7c785</td>\n",
       "      <td>2023-04-26 11:54:31</td>\n",
       "      <td>3</td>\n",
       "      <td>1.000403</td>\n",
       "      <td>-1.801585</td>\n",
       "      <td>-1.469994</td>\n",
       "      <td>0.447137</td>\n",
       "      <td>0.212607</td>\n",
       "      <td>0.243557</td>\n",
       "    </tr>\n",
       "    <tr>\n",
       "      <th>4</th>\n",
       "      <td>644910f3dc5f980000c7c785</td>\n",
       "      <td>2023-04-26 11:54:32</td>\n",
       "      <td>3</td>\n",
       "      <td>1.000084</td>\n",
       "      <td>-1.712960</td>\n",
       "      <td>-1.479929</td>\n",
       "      <td>0.519859</td>\n",
       "      <td>0.225907</td>\n",
       "      <td>0.257173</td>\n",
       "    </tr>\n",
       "  </tbody>\n",
       "</table>\n",
       "</div>"
      ],
      "text/plain": [
       "                  TripLogId           Timestamp  AttitudeReferenceFrame  \\\n",
       "0  644910f3dc5f980000c7c785 2023-04-26 11:54:28                       3   \n",
       "1  644910f3dc5f980000c7c785 2023-04-26 11:54:29                       3   \n",
       "2  644910f3dc5f980000c7c785 2023-04-26 11:54:30                       3   \n",
       "3  644910f3dc5f980000c7c785 2023-04-26 11:54:31                       3   \n",
       "4  644910f3dc5f980000c7c785 2023-04-26 11:54:32                       3   \n",
       "\n",
       "    Gravity  Attitude_Roll  Attitude_Pitch  Attitude_Yaw  RotationRate  \\\n",
       "0  1.000000      -2.147229       -1.463775      0.074891      0.026729   \n",
       "1  1.000320      -2.007547       -1.461505      0.186650      0.068063   \n",
       "2  1.000228      -1.956213       -1.463443      0.272002      0.198828   \n",
       "3  1.000403      -1.801585       -1.469994      0.447137      0.212607   \n",
       "4  1.000084      -1.712960       -1.479929      0.519859      0.225907   \n",
       "\n",
       "   UserAcceleration  \n",
       "0          0.035318  \n",
       "1          0.267041  \n",
       "2          0.191946  \n",
       "3          0.243557  \n",
       "4          0.257173  "
      ]
     },
     "execution_count": 26,
     "metadata": {},
     "output_type": "execute_result"
    }
   ],
   "source": [
    "result.head()"
   ]
  },
  {
   "cell_type": "markdown",
   "id": "a315192b",
   "metadata": {},
   "source": [
    "## Return to Home\n",
    "\n",
    "[Go Back to Quick Links](#Quick_Links)\n",
    "\n",
    "---"
   ]
  },
  {
   "cell_type": "markdown",
   "id": "d80703ab",
   "metadata": {},
   "source": [
    "# 4_Data_Preprocessing"
   ]
  },
  {
   "cell_type": "code",
   "execution_count": 27,
   "id": "bdefbcfa",
   "metadata": {},
   "outputs": [],
   "source": [
    "# Register the DataFrame as a temporary view\n",
    "vibration_df.createOrReplaceTempView(\"vibration\")\n",
    "trips_df.createOrReplaceTempView(\"trips\")\n",
    "\n",
    "# Query to join vibration data with GPS data\n",
    "query = \"\"\"\n",
    "SELECT \n",
    "    V.TripLogId, \n",
    "    V.Timestamp,\n",
    "    MAX(T.StartTime) OVER(PARTITION BY V.TripLogId) AS StartTime,\n",
    "    MAX(T.EndTime) OVER(PARTITION BY V.TripLogId) AS EndTime,\n",
    "    MAX(V.RotationRate) OVER(PARTITION BY V.TripLogId, V.Timestamp) AS RotationRate,\n",
    "    MAX(V.Gravity) OVER(PARTITION BY V.TripLogId, V.Timestamp) AS Gravity,\n",
    "    AVG(V.UserAcceleration) OVER(PARTITION BY V.TripLogId, V.Timestamp) AS UserAcceleration,\n",
    "    AVG(V.Attitude_Roll) OVER(PARTITION BY V.TripLogId, V.Attitude_Roll) AS AttitudeRoll,\n",
    "    AVG(V.Attitude_Pitch) OVER(PARTITION BY V.TripLogId, V.Attitude_Roll) AS AttitudePitch,\n",
    "    AVG(V.Attitude_Yaw) OVER(PARTITION BY V.TripLogId, V.Attitude_Roll) AS AttitudeYaw,\n",
    "    MAX(T.Longitude) OVER(PARTITION BY V.TripLogId, V.Timestamp) AS Longitude,\n",
    "    MAX(T.Latitude) OVER(PARTITION BY V.TripLogId, V.Timestamp) AS Latitude,\n",
    "    MAX(T.LoadLongitude) OVER(PARTITION BY V.TripLogId) AS LoadLongitude,\n",
    "    MAX(T.LoadLatitude) OVER(PARTITION BY V.TripLogId) AS LoadLatitude,\n",
    "    MAX(T.DumpLongitude) OVER(PARTITION BY V.TripLogId) AS DumpLongitude,\n",
    "    MAX(T.DumpLatitude) OVER(PARTITION BY V.TripLogId) AS DumpLatitude,\n",
    "    MAX(T.MassTypeMaterial) OVER(PARTITION BY V.TripLogId) AS MassTypeMaterial,\n",
    "    MAX(T.StartLongitude) OVER(PARTITION BY V.TripLogId) AS StartLongitude,\n",
    "    MAX(T.StartLatitude) OVER(PARTITION BY V.TripLogId) AS StartLatitude,\n",
    "    MAX(T.EndLongitude) OVER(PARTITION BY V.TripLogId) AS EndLongitude,\n",
    "    MAX(T.EndLatitude) OVER(PARTITION BY V.TripLogId) AS EndLatitude,\n",
    "    MAX(T.speedInKmHr) OVER(PARTITION BY V.TripLogId, V.Timestamp) AS speedInKmHr,\n",
    "    MAX(T.Quantity) OVER(PARTITION BY V.TripLogId) AS Quantity,\n",
    "    AVG(V.UserAcceleration_X) OVER(PARTITION BY V.TripLogId, V.Timestamp) AS UserAcceleration_X,\n",
    "    AVG(V.UserAcceleration_Y) OVER(PARTITION BY V.TripLogId, V.Timestamp) AS UserAcceleration_Y,\n",
    "    AVG(V.UserAcceleration_Z) OVER(PARTITION BY V.TripLogId, V.Timestamp) AS UserAcceleration_Z,\n",
    "    AVG(V.Gravity_X) OVER(PARTITION BY V.TripLogId, V.Timestamp) AS Gravity_X,\n",
    "    AVG(V.Gravity_Y) OVER(PARTITION BY V.TripLogId, V.Timestamp) AS Gravity_Y,\n",
    "    AVG(V.Gravity_Z) OVER(PARTITION BY V.TripLogId, V.Timestamp) AS Gravity_Z,\n",
    "    AVG(V.RotationRate_X) OVER(PARTITION BY V.TripLogId, V.Timestamp) AS RotationRate_X,\n",
    "    AVG(V.RotationRate_Y) OVER(PARTITION BY V.TripLogId, V.Timestamp) AS RotationRate_Y,\n",
    "    AVG(V.RotationRate_Z) OVER(PARTITION BY V.TripLogId, V.Timestamp) AS RotationRate_Z\n",
    "FROM vibration AS V\n",
    "LEFT JOIN trips AS T\n",
    "ON (V.TripLogId = T.TripLogId AND V.Timestamp = T.Timestamp_formatted)\n",
    "ORDER BY V.TripLogId, V.Timestamp;\n",
    "\"\"\"\n",
    "\n",
    "# Execute the queries\n",
    "joined_vibration = spark.sql(query)"
   ]
  },
  {
   "cell_type": "code",
   "execution_count": 28,
   "id": "2056f143",
   "metadata": {},
   "outputs": [
    {
     "name": "stderr",
     "output_type": "stream",
     "text": [
      "[Stage 20:>                                                       (0 + 12) / 13]\r"
     ]
    },
    {
     "name": "stdout",
     "output_type": "stream",
     "text": [
      "+--------------------+-------------------+--------------------+--------------------+-------------------+------------------+-------------------+-------------------+-------------------+-------------------+---------+--------+------------------+-----------------+------------------+-----------------+----------------+------------------+-----------------+------------------+-----------------+-----------+--------+--------------------+--------------------+-------------------+-------------------+------------------+--------------------+--------------------+-------------------+-------------------+\n",
      "|           TripLogId|          Timestamp|           StartTime|             EndTime|       RotationRate|           Gravity|   UserAcceleration|       AttitudeRoll|      AttitudePitch|        AttitudeYaw|Longitude|Latitude|     LoadLongitude|     LoadLatitude|     DumpLongitude|     DumpLatitude|MassTypeMaterial|    StartLongitude|    StartLatitude|      EndLongitude|      EndLatitude|speedInKmHr|Quantity|  UserAcceleration_X|  UserAcceleration_Y| UserAcceleration_Z|          Gravity_X|         Gravity_Y|           Gravity_Z|      RotationRate_X|     RotationRate_Y|     RotationRate_Z|\n",
      "+--------------------+-------------------+--------------------+--------------------+-------------------+------------------+-------------------+-------------------+-------------------+-------------------+---------+--------+------------------+-----------------+------------------+-----------------+----------------+------------------+-----------------+------------------+-----------------+-----------+--------+--------------------+--------------------+-------------------+-------------------+------------------+--------------------+--------------------+-------------------+-------------------+\n",
      "|6448b309b35f74000...|2023-04-26 05:13:49|2023-04-26 05:10:...|2023-04-26 05:19:...| 0.0391533534272219|0.9999999428864613|0.18164361493449058|0.30365188832162315|-1.2233361358176797|0.20801874446765709|     null|    null|10.376120287792515|59.95253405375097|10.374546092980282|59.95212751053856|           Stone|10.376120287792515|59.95253405375097|10.373446527953037|59.95308988258081|       null|      40|0.026419758796691895|-0.11849379539489746|0.13511335849761963| 0.1018151044845581|0.9402405619621277|-0.32493269443511963|-0.00720692146569...|0.03044428676366806|0.02354125678539276|\n",
      "|6448b309b35f74000...|2023-04-26 05:13:49|2023-04-26 05:10:...|2023-04-26 05:19:...| 0.0391533534272219|0.9999999428864613|0.18164361493449058|0.30365188832162315|-1.2233361358176797|0.20801874446765709|     null|    null|10.376120287792515|59.95253405375097|10.374546092980282|59.95212751053856|           Stone|10.376120287792515|59.95253405375097|10.373446527953037|59.95308988258081|       null|      40|0.026419758796691895|-0.11849379539489746|0.13511335849761963| 0.1018151044845581|0.9402405619621277|-0.32493269443511963|-0.00720692146569...|0.03044428676366806|0.02354125678539276|\n",
      "|6448b309b35f74000...|2023-04-26 05:13:50|2023-04-26 05:10:...|2023-04-26 05:19:...|0.08634190563049772|1.0009181937252163| 0.1598047446649742| 0.4128237068410594|  -1.19297275548385|0.31463226143457607|     null|    null|10.376120287792515|59.95253405375097|10.374546092980282|59.95212751053856|           Stone|10.376120287792515|59.95253405375097|10.373446527953037|59.95308988258081|       null|      40| 0.05865035951137543| 0.10015726089477539| 0.1098463237285614|0.13073056936264038|0.9503639340400696| -0.2855786085128784| 0.06497491151094437|  0.039823018014431|0.04058710113167763|\n",
      "|6448b309b35f74000...|2023-04-26 05:13:50|2023-04-26 05:10:...|2023-04-26 05:19:...|0.08634190563049772|1.0009181937252163| 0.1598047446649742| 0.4128237068410594|  -1.19297275548385|0.31463226143457607|     null|    null|10.376120287792515|59.95253405375097|10.374546092980282|59.95212751053856|           Stone|10.376120287792515|59.95253405375097|10.373446527953037|59.95308988258081|       null|      40| 0.05865035951137543| 0.10015726089477539| 0.1098463237285614|0.13073056936264038|0.9503639340400696| -0.2855786085128784| 0.06497491151094437|  0.039823018014431|0.04058710113167763|\n",
      "|6448b309b35f74000...|2023-04-26 05:13:51|2023-04-26 05:10:...|2023-04-26 05:19:...|0.13426225210796744|1.0003271300436356|0.16514919584241744|0.37416130639870165|-1.1974427676035502|0.25545624394238303|     null|    null|10.376120287792515|59.95253405375097|10.374546092980282|59.95212751053856|           Stone|10.376120287792515|59.95253405375097|10.373446527953037|59.95308988258081|       null|      40|  0.1105373352766037| 0.07305282354354858|0.09858518838882446|0.13238489627838135|0.9332774877548218| -0.3348458409309387|  0.0868479385972023|0.10157804936170578|0.01287197694182396|\n",
      "+--------------------+-------------------+--------------------+--------------------+-------------------+------------------+-------------------+-------------------+-------------------+-------------------+---------+--------+------------------+-----------------+------------------+-----------------+----------------+------------------+-----------------+------------------+-----------------+-----------+--------+--------------------+--------------------+-------------------+-------------------+------------------+--------------------+--------------------+-------------------+-------------------+\n",
      "only showing top 5 rows\n",
      "\n"
     ]
    },
    {
     "name": "stderr",
     "output_type": "stream",
     "text": [
      "\r",
      "                                                                                \r"
     ]
    }
   ],
   "source": [
    "joined_vibration.show(5)"
   ]
  },
  {
   "cell_type": "code",
   "execution_count": 29,
   "id": "8f95a863",
   "metadata": {},
   "outputs": [
    {
     "name": "stderr",
     "output_type": "stream",
     "text": [
      "                                                                                \r"
     ]
    },
    {
     "data": {
      "text/html": [
       "<div>\n",
       "<style scoped>\n",
       "    .dataframe tbody tr th:only-of-type {\n",
       "        vertical-align: middle;\n",
       "    }\n",
       "\n",
       "    .dataframe tbody tr th {\n",
       "        vertical-align: top;\n",
       "    }\n",
       "\n",
       "    .dataframe thead th {\n",
       "        text-align: right;\n",
       "    }\n",
       "</style>\n",
       "<table border=\"1\" class=\"dataframe\">\n",
       "  <thead>\n",
       "    <tr style=\"text-align: right;\">\n",
       "      <th></th>\n",
       "      <th>TripLogId</th>\n",
       "      <th>RotationRate</th>\n",
       "      <th>Gravity</th>\n",
       "      <th>UserAcceleration</th>\n",
       "      <th>AttitudeRoll</th>\n",
       "      <th>AttitudePitch</th>\n",
       "      <th>AttitudeYaw</th>\n",
       "      <th>Longitude</th>\n",
       "      <th>Latitude</th>\n",
       "      <th>LoadLongitude</th>\n",
       "      <th>...</th>\n",
       "      <th>Quantity</th>\n",
       "      <th>UserAcceleration_X</th>\n",
       "      <th>UserAcceleration_Y</th>\n",
       "      <th>UserAcceleration_Z</th>\n",
       "      <th>Gravity_X</th>\n",
       "      <th>Gravity_Y</th>\n",
       "      <th>Gravity_Z</th>\n",
       "      <th>RotationRate_X</th>\n",
       "      <th>RotationRate_Y</th>\n",
       "      <th>RotationRate_Z</th>\n",
       "    </tr>\n",
       "    <tr>\n",
       "      <th>summary</th>\n",
       "      <th></th>\n",
       "      <th></th>\n",
       "      <th></th>\n",
       "      <th></th>\n",
       "      <th></th>\n",
       "      <th></th>\n",
       "      <th></th>\n",
       "      <th></th>\n",
       "      <th></th>\n",
       "      <th></th>\n",
       "      <th></th>\n",
       "      <th></th>\n",
       "      <th></th>\n",
       "      <th></th>\n",
       "      <th></th>\n",
       "      <th></th>\n",
       "      <th></th>\n",
       "      <th></th>\n",
       "      <th></th>\n",
       "      <th></th>\n",
       "      <th></th>\n",
       "    </tr>\n",
       "  </thead>\n",
       "  <tbody>\n",
       "    <tr>\n",
       "      <th>count</th>\n",
       "      <td>196269</td>\n",
       "      <td>196269</td>\n",
       "      <td>196269</td>\n",
       "      <td>196269</td>\n",
       "      <td>196269</td>\n",
       "      <td>196269</td>\n",
       "      <td>196269</td>\n",
       "      <td>53521</td>\n",
       "      <td>53521</td>\n",
       "      <td>194221</td>\n",
       "      <td>...</td>\n",
       "      <td>194221</td>\n",
       "      <td>196269</td>\n",
       "      <td>196269</td>\n",
       "      <td>196269</td>\n",
       "      <td>196269</td>\n",
       "      <td>196269</td>\n",
       "      <td>196269</td>\n",
       "      <td>196269</td>\n",
       "      <td>196269</td>\n",
       "      <td>196269</td>\n",
       "    </tr>\n",
       "    <tr>\n",
       "      <th>mean</th>\n",
       "      <td>6.449317133461564E23</td>\n",
       "      <td>0.1423483709216107</td>\n",
       "      <td>0.997284071806634</td>\n",
       "      <td>0.1532508518953588</td>\n",
       "      <td>-0.40877188140630333</td>\n",
       "      <td>-0.16531852060231425</td>\n",
       "      <td>0.09302037982946652</td>\n",
       "      <td>10.350783737451755</td>\n",
       "      <td>59.96468874657659</td>\n",
       "      <td>10.353099181710567</td>\n",
       "      <td>...</td>\n",
       "      <td>27.66716266521128</td>\n",
       "      <td>0.07273038749862176</td>\n",
       "      <td>0.08676011585681628</td>\n",
       "      <td>0.08673799662811654</td>\n",
       "      <td>-0.3847036331643463</td>\n",
       "      <td>0.12392131392052341</td>\n",
       "      <td>-0.38223287159001723</td>\n",
       "      <td>0.09201974207389182</td>\n",
       "      <td>0.06388214768378875</td>\n",
       "      <td>0.0605801885083961</td>\n",
       "    </tr>\n",
       "    <tr>\n",
       "      <th>stddev</th>\n",
       "      <td>0.0</td>\n",
       "      <td>0.1832528323780705</td>\n",
       "      <td>0.004848291108852858</td>\n",
       "      <td>0.14001115690092086</td>\n",
       "      <td>0.9693674255269022</td>\n",
       "      <td>0.704003538561992</td>\n",
       "      <td>1.8624484088240776</td>\n",
       "      <td>0.023639467170513594</td>\n",
       "      <td>0.010413349409928874</td>\n",
       "      <td>0.026797040308330834</td>\n",
       "      <td>...</td>\n",
       "      <td>9.185659281715106</td>\n",
       "      <td>0.07700827162217197</td>\n",
       "      <td>0.09630932954316822</td>\n",
       "      <td>0.0867985943341453</td>\n",
       "      <td>0.5967510750893237</td>\n",
       "      <td>0.5284147275083428</td>\n",
       "      <td>0.2231735762504441</td>\n",
       "      <td>0.1442429455585602</td>\n",
       "      <td>0.08883713765733521</td>\n",
       "      <td>0.0942147587694469</td>\n",
       "    </tr>\n",
       "    <tr>\n",
       "      <th>min</th>\n",
       "      <td>6448b309b35f740000fcd4d3</td>\n",
       "      <td>7.176669552489228E-4</td>\n",
       "      <td>0.9121682936195303</td>\n",
       "      <td>1.775029977368394E-4</td>\n",
       "      <td>-3.0805605380418726</td>\n",
       "      <td>-1.5667057044059687</td>\n",
       "      <td>-3.139245733033403</td>\n",
       "      <td>10.319881989913249</td>\n",
       "      <td>59.931909386124396</td>\n",
       "      <td>10.32023466358147</td>\n",
       "      <td>...</td>\n",
       "      <td>15</td>\n",
       "      <td>-0.11552011966705322</td>\n",
       "      <td>-0.2185879647731781</td>\n",
       "      <td>-0.26643574237823486</td>\n",
       "      <td>-0.9999879002571106</td>\n",
       "      <td>-0.9617010354995728</td>\n",
       "      <td>-0.8695693612098694</td>\n",
       "      <td>-0.6643316745758057</td>\n",
       "      <td>-0.8920444846153259</td>\n",
       "      <td>-0.2884468734264374</td>\n",
       "    </tr>\n",
       "    <tr>\n",
       "      <th>max</th>\n",
       "      <td>644962ab1b42df00007201a9</td>\n",
       "      <td>6.386228256478326</td>\n",
       "      <td>1.0893448022096508</td>\n",
       "      <td>4.294457848569262</td>\n",
       "      <td>3.1415410686671024</td>\n",
       "      <td>1.3100379752464029</td>\n",
       "      <td>3.141591635937838</td>\n",
       "      <td>10.438213432217424</td>\n",
       "      <td>59.97923275312187</td>\n",
       "      <td>10.421487869496616</td>\n",
       "      <td>...</td>\n",
       "      <td>40</td>\n",
       "      <td>2.3939146995544434</td>\n",
       "      <td>3.5369620323181152</td>\n",
       "      <td>2.564394474029541</td>\n",
       "      <td>0.9685519337654114</td>\n",
       "      <td>0.9999999403953552</td>\n",
       "      <td>0.43678584694862366</td>\n",
       "      <td>6.223258018493652</td>\n",
       "      <td>3.1465959548950195</td>\n",
       "      <td>3.2892379760742188</td>\n",
       "    </tr>\n",
       "  </tbody>\n",
       "</table>\n",
       "<p>5 rows × 29 columns</p>\n",
       "</div>"
      ],
      "text/plain": [
       "                        TripLogId          RotationRate               Gravity  \\\n",
       "summary                                                                         \n",
       "count                      196269                196269                196269   \n",
       "mean         6.449317133461564E23    0.1423483709216107     0.997284071806634   \n",
       "stddev                        0.0    0.1832528323780705  0.004848291108852858   \n",
       "min      6448b309b35f740000fcd4d3  7.176669552489228E-4    0.9121682936195303   \n",
       "max      644962ab1b42df00007201a9     6.386228256478326    1.0893448022096508   \n",
       "\n",
       "             UserAcceleration          AttitudeRoll         AttitudePitch  \\\n",
       "summary                                                                     \n",
       "count                  196269                196269                196269   \n",
       "mean       0.1532508518953588  -0.40877188140630333  -0.16531852060231425   \n",
       "stddev    0.14001115690092086    0.9693674255269022     0.704003538561992   \n",
       "min      1.775029977368394E-4   -3.0805605380418726   -1.5667057044059687   \n",
       "max         4.294457848569262    3.1415410686671024    1.3100379752464029   \n",
       "\n",
       "                 AttitudeYaw             Longitude              Latitude  \\\n",
       "summary                                                                    \n",
       "count                 196269                 53521                 53521   \n",
       "mean     0.09302037982946652    10.350783737451755     59.96468874657659   \n",
       "stddev    1.8624484088240776  0.023639467170513594  0.010413349409928874   \n",
       "min       -3.139245733033403    10.319881989913249    59.931909386124396   \n",
       "max        3.141591635937838    10.438213432217424     59.97923275312187   \n",
       "\n",
       "                LoadLongitude  ...           Quantity    UserAcceleration_X  \\\n",
       "summary                        ...                                            \n",
       "count                  194221  ...             194221                196269   \n",
       "mean       10.353099181710567  ...  27.66716266521128   0.07273038749862176   \n",
       "stddev   0.026797040308330834  ...  9.185659281715106   0.07700827162217197   \n",
       "min         10.32023466358147  ...                 15  -0.11552011966705322   \n",
       "max        10.421487869496616  ...                 40    2.3939146995544434   \n",
       "\n",
       "          UserAcceleration_Y    UserAcceleration_Z            Gravity_X  \\\n",
       "summary                                                                   \n",
       "count                 196269                196269               196269   \n",
       "mean     0.08676011585681628   0.08673799662811654  -0.3847036331643463   \n",
       "stddev   0.09630932954316822    0.0867985943341453   0.5967510750893237   \n",
       "min      -0.2185879647731781  -0.26643574237823486  -0.9999879002571106   \n",
       "max       3.5369620323181152     2.564394474029541   0.9685519337654114   \n",
       "\n",
       "                   Gravity_Y             Gravity_Z       RotationRate_X  \\\n",
       "summary                                                                   \n",
       "count                 196269                196269               196269   \n",
       "mean     0.12392131392052341  -0.38223287159001723  0.09201974207389182   \n",
       "stddev    0.5284147275083428    0.2231735762504441   0.1442429455585602   \n",
       "min      -0.9617010354995728   -0.8695693612098694  -0.6643316745758057   \n",
       "max       0.9999999403953552   0.43678584694862366    6.223258018493652   \n",
       "\n",
       "              RotationRate_Y       RotationRate_Z  \n",
       "summary                                            \n",
       "count                 196269               196269  \n",
       "mean     0.06388214768378875   0.0605801885083961  \n",
       "stddev   0.08883713765733521   0.0942147587694469  \n",
       "min      -0.8920444846153259  -0.2884468734264374  \n",
       "max       3.1465959548950195   3.2892379760742188  \n",
       "\n",
       "[5 rows x 29 columns]"
      ]
     },
     "execution_count": 29,
     "metadata": {},
     "output_type": "execute_result"
    }
   ],
   "source": [
    "# Display the summary of the joined vibration dataframe\n",
    "summary_df = joined_vibration.describe().toPandas()\n",
    "summary_df.set_index('summary')"
   ]
  },
  {
   "cell_type": "markdown",
   "id": "e2527576",
   "metadata": {},
   "source": [
    "Here is the second problem. Given the vibration dataset which contains information rounded to the nearest second, I mapped the GPS trip information to it.\n",
    "\n",
    "There are 143852 rows in the `joined_vibration` dataframe, of which **39407** rows have values for Longitude, Latitude and speedInKmHr. The missing values displayed as null could be imputed with previous detected/calculated speed readings or filled with an algorithm."
   ]
  },
  {
   "cell_type": "markdown",
   "id": "17a7f53e",
   "metadata": {},
   "source": [
    "## Return to Home\n",
    "\n",
    "[Go Back to Quick Links](#Quick_Links)\n",
    "\n",
    "---"
   ]
  },
  {
   "cell_type": "markdown",
   "id": "3d101dde",
   "metadata": {},
   "source": [
    "# 5_Clustering"
   ]
  },
  {
   "cell_type": "markdown",
   "id": "9d3f5f83",
   "metadata": {},
   "source": [
    "## Speed Prediction\n",
    "\n",
    "### Impute missing speeds with previous `speedInKmHr` reading"
   ]
  },
  {
   "cell_type": "code",
   "execution_count": 30,
   "id": "fc33af51",
   "metadata": {},
   "outputs": [],
   "source": [
    "from pyspark.sql.window import Window\n",
    "from pyspark.sql.functions import last, coalesce, row_number\n",
    "\n",
    "# Define a Window specification\n",
    "window_spec = Window.orderBy(\"TripLogId\", \"Timestamp\")\n",
    "    \n",
    "# Create a custom function to fill null values with the last known non-null value\n",
    "def fill_null_with_last(column):\n",
    "    # fill-forward null values\n",
    "    last_non_null = last(column, ignorenulls=True).over(window_spec)\n",
    "    return coalesce(column, last_non_null)\n",
    "\n",
    "# def calc_missing_speed(column):\n",
    "#     # Add a running count column within each window\n",
    "#     df_with_running_count = \n",
    "#     # Calculate previous and forward values for speed\n",
    "#     last_non_null = last(column, ignorenulls=True).over(window_spec)\n",
    "#     next_non_null = lead(column, ignorenulls=True).over(window_spec)\n",
    "#     (next_non_null - last_non_null)\n",
    "#     return coalesce(column, )\n",
    "\n",
    "# Apply the custom function to fill null values in the target column\n",
    "joined_vibration = joined_vibration.withColumn(\"ImputedSpeedInKmHr\", fill_null_with_last(\"speedInKmHr\"))\n",
    "\n",
    "# Apply the custom function to fill null values in the target column\n",
    "# joined_vibration = joined_vibration.withColumn(\"Longitude\", fill_null_with_last(\"Longitude\"))\n",
    "# joined_vibration = joined_vibration.withColumn(\"Latitude\", fill_null_with_last(\"Latitude\"))"
   ]
  },
  {
   "cell_type": "code",
   "execution_count": 31,
   "id": "d1843822",
   "metadata": {},
   "outputs": [
    {
     "name": "stderr",
     "output_type": "stream",
     "text": [
      "[Stage 57:============>                                           (3 + 10) / 13]\r"
     ]
    },
    {
     "name": "stdout",
     "output_type": "stream",
     "text": [
      "+--------------------+-------------------+--------------------+--------------------+-------------------+------------------+-------------------+-------------------+-------------------+-------------------+---------+--------+------------------+-----------------+------------------+-----------------+----------------+------------------+-----------------+------------------+-----------------+-----------+--------+--------------------+--------------------+-------------------+-------------------+------------------+--------------------+--------------------+-------------------+-------------------+------------------+\n",
      "|           TripLogId|          Timestamp|           StartTime|             EndTime|       RotationRate|           Gravity|   UserAcceleration|       AttitudeRoll|      AttitudePitch|        AttitudeYaw|Longitude|Latitude|     LoadLongitude|     LoadLatitude|     DumpLongitude|     DumpLatitude|MassTypeMaterial|    StartLongitude|    StartLatitude|      EndLongitude|      EndLatitude|speedInKmHr|Quantity|  UserAcceleration_X|  UserAcceleration_Y| UserAcceleration_Z|          Gravity_X|         Gravity_Y|           Gravity_Z|      RotationRate_X|     RotationRate_Y|     RotationRate_Z|ImputedSpeedInKmHr|\n",
      "+--------------------+-------------------+--------------------+--------------------+-------------------+------------------+-------------------+-------------------+-------------------+-------------------+---------+--------+------------------+-----------------+------------------+-----------------+----------------+------------------+-----------------+------------------+-----------------+-----------+--------+--------------------+--------------------+-------------------+-------------------+------------------+--------------------+--------------------+-------------------+-------------------+------------------+\n",
      "|6448b309b35f74000...|2023-04-26 05:13:49|2023-04-26 05:10:...|2023-04-26 05:19:...| 0.0391533534272219|0.9999999428864613|0.18164361493449058|0.30365188832162315|-1.2233361358176797|0.20801874446765709|     null|    null|10.376120287792515|59.95253405375097|10.374546092980282|59.95212751053856|           Stone|10.376120287792515|59.95253405375097|10.373446527953037|59.95308988258081|       null|      40|0.026419758796691895|-0.11849379539489746|0.13511335849761963| 0.1018151044845581|0.9402405619621277|-0.32493269443511963|-0.00720692146569...|0.03044428676366806|0.02354125678539276|              null|\n",
      "|6448b309b35f74000...|2023-04-26 05:13:49|2023-04-26 05:10:...|2023-04-26 05:19:...| 0.0391533534272219|0.9999999428864613|0.18164361493449058|0.30365188832162315|-1.2233361358176797|0.20801874446765709|     null|    null|10.376120287792515|59.95253405375097|10.374546092980282|59.95212751053856|           Stone|10.376120287792515|59.95253405375097|10.373446527953037|59.95308988258081|       null|      40|0.026419758796691895|-0.11849379539489746|0.13511335849761963| 0.1018151044845581|0.9402405619621277|-0.32493269443511963|-0.00720692146569...|0.03044428676366806|0.02354125678539276|              null|\n",
      "|6448b309b35f74000...|2023-04-26 05:13:50|2023-04-26 05:10:...|2023-04-26 05:19:...|0.08634190563049772|1.0009181937252163| 0.1598047446649742| 0.4128237068410594|  -1.19297275548385|0.31463226143457607|     null|    null|10.376120287792515|59.95253405375097|10.374546092980282|59.95212751053856|           Stone|10.376120287792515|59.95253405375097|10.373446527953037|59.95308988258081|       null|      40| 0.05865035951137543| 0.10015726089477539| 0.1098463237285614|0.13073056936264038|0.9503639340400696| -0.2855786085128784| 0.06497491151094437|  0.039823018014431|0.04058710113167763|              null|\n",
      "|6448b309b35f74000...|2023-04-26 05:13:50|2023-04-26 05:10:...|2023-04-26 05:19:...|0.08634190563049772|1.0009181937252163| 0.1598047446649742| 0.4128237068410594|  -1.19297275548385|0.31463226143457607|     null|    null|10.376120287792515|59.95253405375097|10.374546092980282|59.95212751053856|           Stone|10.376120287792515|59.95253405375097|10.373446527953037|59.95308988258081|       null|      40| 0.05865035951137543| 0.10015726089477539| 0.1098463237285614|0.13073056936264038|0.9503639340400696| -0.2855786085128784| 0.06497491151094437|  0.039823018014431|0.04058710113167763|              null|\n",
      "|6448b309b35f74000...|2023-04-26 05:13:51|2023-04-26 05:10:...|2023-04-26 05:19:...|0.13426225210796744|1.0003271300436356|0.16514919584241744|0.37416130639870165|-1.1974427676035502|0.25545624394238303|     null|    null|10.376120287792515|59.95253405375097|10.374546092980282|59.95212751053856|           Stone|10.376120287792515|59.95253405375097|10.373446527953037|59.95308988258081|       null|      40|  0.1105373352766037| 0.07305282354354858|0.09858518838882446|0.13238489627838135|0.9332774877548218| -0.3348458409309387|  0.0868479385972023|0.10157804936170578|0.01287197694182396|              null|\n",
      "+--------------------+-------------------+--------------------+--------------------+-------------------+------------------+-------------------+-------------------+-------------------+-------------------+---------+--------+------------------+-----------------+------------------+-----------------+----------------+------------------+-----------------+------------------+-----------------+-----------+--------+--------------------+--------------------+-------------------+-------------------+------------------+--------------------+--------------------+-------------------+-------------------+------------------+\n",
      "only showing top 5 rows\n",
      "\n"
     ]
    },
    {
     "name": "stderr",
     "output_type": "stream",
     "text": [
      "\r",
      "                                                                                \r"
     ]
    }
   ],
   "source": [
    "joined_vibration.show(5)"
   ]
  },
  {
   "cell_type": "code",
   "execution_count": 32,
   "id": "d6978f3c",
   "metadata": {},
   "outputs": [
    {
     "name": "stderr",
     "output_type": "stream",
     "text": [
      "                                                                                \r"
     ]
    },
    {
     "data": {
      "text/html": [
       "<div>\n",
       "<style scoped>\n",
       "    .dataframe tbody tr th:only-of-type {\n",
       "        vertical-align: middle;\n",
       "    }\n",
       "\n",
       "    .dataframe tbody tr th {\n",
       "        vertical-align: top;\n",
       "    }\n",
       "\n",
       "    .dataframe thead th {\n",
       "        text-align: right;\n",
       "    }\n",
       "</style>\n",
       "<table border=\"1\" class=\"dataframe\">\n",
       "  <thead>\n",
       "    <tr style=\"text-align: right;\">\n",
       "      <th></th>\n",
       "      <th>TripLogId</th>\n",
       "      <th>RotationRate</th>\n",
       "      <th>Gravity</th>\n",
       "      <th>UserAcceleration</th>\n",
       "      <th>AttitudeRoll</th>\n",
       "      <th>AttitudePitch</th>\n",
       "      <th>AttitudeYaw</th>\n",
       "      <th>Longitude</th>\n",
       "      <th>Latitude</th>\n",
       "      <th>LoadLongitude</th>\n",
       "      <th>...</th>\n",
       "      <th>UserAcceleration_X</th>\n",
       "      <th>UserAcceleration_Y</th>\n",
       "      <th>UserAcceleration_Z</th>\n",
       "      <th>Gravity_X</th>\n",
       "      <th>Gravity_Y</th>\n",
       "      <th>Gravity_Z</th>\n",
       "      <th>RotationRate_X</th>\n",
       "      <th>RotationRate_Y</th>\n",
       "      <th>RotationRate_Z</th>\n",
       "      <th>ImputedSpeedInKmHr</th>\n",
       "    </tr>\n",
       "    <tr>\n",
       "      <th>summary</th>\n",
       "      <th></th>\n",
       "      <th></th>\n",
       "      <th></th>\n",
       "      <th></th>\n",
       "      <th></th>\n",
       "      <th></th>\n",
       "      <th></th>\n",
       "      <th></th>\n",
       "      <th></th>\n",
       "      <th></th>\n",
       "      <th></th>\n",
       "      <th></th>\n",
       "      <th></th>\n",
       "      <th></th>\n",
       "      <th></th>\n",
       "      <th></th>\n",
       "      <th></th>\n",
       "      <th></th>\n",
       "      <th></th>\n",
       "      <th></th>\n",
       "      <th></th>\n",
       "    </tr>\n",
       "  </thead>\n",
       "  <tbody>\n",
       "    <tr>\n",
       "      <th>count</th>\n",
       "      <td>196269</td>\n",
       "      <td>196269</td>\n",
       "      <td>196269</td>\n",
       "      <td>196269</td>\n",
       "      <td>196269</td>\n",
       "      <td>196269</td>\n",
       "      <td>196269</td>\n",
       "      <td>53521</td>\n",
       "      <td>53521</td>\n",
       "      <td>194221</td>\n",
       "      <td>...</td>\n",
       "      <td>196269</td>\n",
       "      <td>196269</td>\n",
       "      <td>196269</td>\n",
       "      <td>196269</td>\n",
       "      <td>196269</td>\n",
       "      <td>196269</td>\n",
       "      <td>196269</td>\n",
       "      <td>196269</td>\n",
       "      <td>196269</td>\n",
       "      <td>195869</td>\n",
       "    </tr>\n",
       "    <tr>\n",
       "      <th>mean</th>\n",
       "      <td>6.449317133461564E23</td>\n",
       "      <td>0.1423483709216105</td>\n",
       "      <td>0.9972840718066196</td>\n",
       "      <td>0.15325085189536067</td>\n",
       "      <td>-0.40877188140630943</td>\n",
       "      <td>-0.1653185206023166</td>\n",
       "      <td>0.09302037982946704</td>\n",
       "      <td>10.350783737450978</td>\n",
       "      <td>59.96468874657166</td>\n",
       "      <td>10.353099181706932</td>\n",
       "      <td>...</td>\n",
       "      <td>0.07273038749862176</td>\n",
       "      <td>0.08676011585681628</td>\n",
       "      <td>0.08673799662811654</td>\n",
       "      <td>-0.3847036331643462</td>\n",
       "      <td>0.12392131392052334</td>\n",
       "      <td>-0.3822328715900172</td>\n",
       "      <td>0.09201974207389181</td>\n",
       "      <td>0.06388214768378876</td>\n",
       "      <td>0.060580188508396096</td>\n",
       "      <td>15.869844458886206</td>\n",
       "    </tr>\n",
       "    <tr>\n",
       "      <th>stddev</th>\n",
       "      <td>0.0</td>\n",
       "      <td>0.18325283237807186</td>\n",
       "      <td>0.004848291108853058</td>\n",
       "      <td>0.14001115690092092</td>\n",
       "      <td>0.9693674255269035</td>\n",
       "      <td>0.7040035385619949</td>\n",
       "      <td>1.8624484088240567</td>\n",
       "      <td>0.023639467170513545</td>\n",
       "      <td>0.010413349409894877</td>\n",
       "      <td>0.026797040308310614</td>\n",
       "      <td>...</td>\n",
       "      <td>0.07700827162217225</td>\n",
       "      <td>0.09630932954316779</td>\n",
       "      <td>0.08679859433414547</td>\n",
       "      <td>0.5967510750893248</td>\n",
       "      <td>0.5284147275083396</td>\n",
       "      <td>0.22317357625044307</td>\n",
       "      <td>0.14424294555855866</td>\n",
       "      <td>0.0888371376573342</td>\n",
       "      <td>0.09421475876944758</td>\n",
       "      <td>20.222770309060056</td>\n",
       "    </tr>\n",
       "    <tr>\n",
       "      <th>min</th>\n",
       "      <td>6448b309b35f740000fcd4d3</td>\n",
       "      <td>7.176669552489228E-4</td>\n",
       "      <td>0.9121682936195303</td>\n",
       "      <td>1.775029977368394E-4</td>\n",
       "      <td>-3.0805605380418726</td>\n",
       "      <td>-1.5667057044059687</td>\n",
       "      <td>-3.139245733033403</td>\n",
       "      <td>10.319881989913249</td>\n",
       "      <td>59.931909386124396</td>\n",
       "      <td>10.32023466358147</td>\n",
       "      <td>...</td>\n",
       "      <td>-0.11552011966705322</td>\n",
       "      <td>-0.2185879647731781</td>\n",
       "      <td>-0.26643574237823486</td>\n",
       "      <td>-0.9999879002571106</td>\n",
       "      <td>-0.9617010354995728</td>\n",
       "      <td>-0.8695693612098694</td>\n",
       "      <td>-0.6643316745758057</td>\n",
       "      <td>-0.8920444846153259</td>\n",
       "      <td>-0.2884468734264374</td>\n",
       "      <td>0.0</td>\n",
       "    </tr>\n",
       "    <tr>\n",
       "      <th>max</th>\n",
       "      <td>644962ab1b42df00007201a9</td>\n",
       "      <td>6.386228256478326</td>\n",
       "      <td>1.0893448022096508</td>\n",
       "      <td>4.294457848569262</td>\n",
       "      <td>3.1415410686671024</td>\n",
       "      <td>1.3100379752464029</td>\n",
       "      <td>3.141591635937838</td>\n",
       "      <td>10.438213432217424</td>\n",
       "      <td>59.97923275312187</td>\n",
       "      <td>10.421487869496616</td>\n",
       "      <td>...</td>\n",
       "      <td>2.3939146995544434</td>\n",
       "      <td>3.5369620323181152</td>\n",
       "      <td>2.564394474029541</td>\n",
       "      <td>0.9685519337654114</td>\n",
       "      <td>0.9999999403953552</td>\n",
       "      <td>0.43678584694862366</td>\n",
       "      <td>6.223258018493652</td>\n",
       "      <td>3.1465959548950195</td>\n",
       "      <td>3.2892379760742188</td>\n",
       "      <td>89.15745970778845</td>\n",
       "    </tr>\n",
       "  </tbody>\n",
       "</table>\n",
       "<p>5 rows × 30 columns</p>\n",
       "</div>"
      ],
      "text/plain": [
       "                        TripLogId          RotationRate               Gravity  \\\n",
       "summary                                                                         \n",
       "count                      196269                196269                196269   \n",
       "mean         6.449317133461564E23    0.1423483709216105    0.9972840718066196   \n",
       "stddev                        0.0   0.18325283237807186  0.004848291108853058   \n",
       "min      6448b309b35f740000fcd4d3  7.176669552489228E-4    0.9121682936195303   \n",
       "max      644962ab1b42df00007201a9     6.386228256478326    1.0893448022096508   \n",
       "\n",
       "             UserAcceleration          AttitudeRoll        AttitudePitch  \\\n",
       "summary                                                                    \n",
       "count                  196269                196269               196269   \n",
       "mean      0.15325085189536067  -0.40877188140630943  -0.1653185206023166   \n",
       "stddev    0.14001115690092092    0.9693674255269035   0.7040035385619949   \n",
       "min      1.775029977368394E-4   -3.0805605380418726  -1.5667057044059687   \n",
       "max         4.294457848569262    3.1415410686671024   1.3100379752464029   \n",
       "\n",
       "                 AttitudeYaw             Longitude              Latitude  \\\n",
       "summary                                                                    \n",
       "count                 196269                 53521                 53521   \n",
       "mean     0.09302037982946704    10.350783737450978     59.96468874657166   \n",
       "stddev    1.8624484088240567  0.023639467170513545  0.010413349409894877   \n",
       "min       -3.139245733033403    10.319881989913249    59.931909386124396   \n",
       "max        3.141591635937838    10.438213432217424     59.97923275312187   \n",
       "\n",
       "                LoadLongitude  ...    UserAcceleration_X   UserAcceleration_Y  \\\n",
       "summary                        ...                                              \n",
       "count                  194221  ...                196269               196269   \n",
       "mean       10.353099181706932  ...   0.07273038749862176  0.08676011585681628   \n",
       "stddev   0.026797040308310614  ...   0.07700827162217225  0.09630932954316779   \n",
       "min         10.32023466358147  ...  -0.11552011966705322  -0.2185879647731781   \n",
       "max        10.421487869496616  ...    2.3939146995544434   3.5369620323181152   \n",
       "\n",
       "           UserAcceleration_Z            Gravity_X            Gravity_Y  \\\n",
       "summary                                                                   \n",
       "count                  196269               196269               196269   \n",
       "mean      0.08673799662811654  -0.3847036331643462  0.12392131392052334   \n",
       "stddev    0.08679859433414547   0.5967510750893248   0.5284147275083396   \n",
       "min      -0.26643574237823486  -0.9999879002571106  -0.9617010354995728   \n",
       "max         2.564394474029541   0.9685519337654114   0.9999999403953552   \n",
       "\n",
       "                   Gravity_Z       RotationRate_X       RotationRate_Y  \\\n",
       "summary                                                                  \n",
       "count                 196269               196269               196269   \n",
       "mean     -0.3822328715900172  0.09201974207389181  0.06388214768378876   \n",
       "stddev   0.22317357625044307  0.14424294555855866   0.0888371376573342   \n",
       "min      -0.8695693612098694  -0.6643316745758057  -0.8920444846153259   \n",
       "max      0.43678584694862366    6.223258018493652   3.1465959548950195   \n",
       "\n",
       "               RotationRate_Z  ImputedSpeedInKmHr  \n",
       "summary                                            \n",
       "count                  196269              195869  \n",
       "mean     0.060580188508396096  15.869844458886206  \n",
       "stddev    0.09421475876944758  20.222770309060056  \n",
       "min       -0.2884468734264374                 0.0  \n",
       "max        3.2892379760742188   89.15745970778845  \n",
       "\n",
       "[5 rows x 30 columns]"
      ]
     },
     "execution_count": 32,
     "metadata": {},
     "output_type": "execute_result"
    }
   ],
   "source": [
    "# Display the summary of the joined vibration dataframe\n",
    "summary_df = joined_vibration.describe().toPandas()\n",
    "summary_df.set_index('summary')"
   ]
  },
  {
   "cell_type": "code",
   "execution_count": 33,
   "id": "b2c179c3",
   "metadata": {
    "scrolled": true
   },
   "outputs": [
    {
     "name": "stdout",
     "output_type": "stream",
     "text": [
      "root\n",
      " |-- TripLogId: string (nullable = true)\n",
      " |-- Timestamp: timestamp (nullable = true)\n",
      " |-- StartTime: timestamp (nullable = true)\n",
      " |-- EndTime: timestamp (nullable = true)\n",
      " |-- RotationRate: double (nullable = true)\n",
      " |-- Gravity: double (nullable = true)\n",
      " |-- UserAcceleration: double (nullable = true)\n",
      " |-- AttitudeRoll: double (nullable = true)\n",
      " |-- AttitudePitch: double (nullable = true)\n",
      " |-- AttitudeYaw: double (nullable = true)\n",
      " |-- Longitude: double (nullable = true)\n",
      " |-- Latitude: double (nullable = true)\n",
      " |-- LoadLongitude: double (nullable = true)\n",
      " |-- LoadLatitude: double (nullable = true)\n",
      " |-- DumpLongitude: double (nullable = true)\n",
      " |-- DumpLatitude: double (nullable = true)\n",
      " |-- MassTypeMaterial: string (nullable = true)\n",
      " |-- StartLongitude: double (nullable = true)\n",
      " |-- StartLatitude: double (nullable = true)\n",
      " |-- EndLongitude: double (nullable = true)\n",
      " |-- EndLatitude: double (nullable = true)\n",
      " |-- speedInKmHr: double (nullable = true)\n",
      " |-- Quantity: integer (nullable = true)\n",
      " |-- UserAcceleration_X: double (nullable = true)\n",
      " |-- UserAcceleration_Y: double (nullable = true)\n",
      " |-- UserAcceleration_Z: double (nullable = true)\n",
      " |-- Gravity_X: double (nullable = true)\n",
      " |-- Gravity_Y: double (nullable = true)\n",
      " |-- Gravity_Z: double (nullable = true)\n",
      " |-- RotationRate_X: double (nullable = true)\n",
      " |-- RotationRate_Y: double (nullable = true)\n",
      " |-- RotationRate_Z: double (nullable = true)\n",
      " |-- ImputedSpeedInKmHr: double (nullable = true)\n",
      "\n"
     ]
    }
   ],
   "source": [
    "joined_vibration.printSchema()"
   ]
  },
  {
   "cell_type": "code",
   "execution_count": 34,
   "id": "67313ee8",
   "metadata": {},
   "outputs": [],
   "source": [
    "# Select relevant columns (latitude, longitude, speed, vibration, and material transported)\n",
    "df = joined_vibration.select(\n",
    "    'TripLogId', 'Timestamp', \n",
    "    'UserAcceleration','RotationRate', 'Gravity',\n",
    "    'UserAcceleration_X', 'UserAcceleration_Y', 'UserAcceleration_Z',\n",
    "    'Gravity_X', 'Gravity_Y', 'Gravity_Z',\n",
    "    'RotationRate_X', 'RotationRate_Y', 'RotationRate_Z',\n",
    "    'AttitudeRoll', 'AttitudePitch', 'AttitudeYaw',\n",
    "    'Longitude', 'Latitude',\n",
    "    'ImputedSpeedInKmHr', 'MassTypeMaterial', 'Quantity'\n",
    ")\n",
    "\n",
    "# Drop rows with missing values (if necessary)\n",
    "# df = df.dropna()\n",
    "# Drop null values for the specified column\n",
    "df = df.na.drop(subset=['ImputedSpeedInKmHr'])"
   ]
  },
  {
   "cell_type": "code",
   "execution_count": null,
   "id": "0d5b179b",
   "metadata": {},
   "outputs": [
    {
     "name": "stderr",
     "output_type": "stream",
     "text": [
      "                                                                                \r"
     ]
    }
   ],
   "source": [
    "import seaborn as sns\n",
    "\n",
    "df_toPandas = df.toPandas()\n",
    "\n",
    "df_toPandas.info()"
   ]
  },
  {
   "cell_type": "code",
   "execution_count": null,
   "id": "ed1ddf30",
   "metadata": {},
   "outputs": [],
   "source": [
    "# Calculate the correlation matrix\n",
    "correlation_matrix = df_toPandas.corr()\n",
    "\n",
    "# Create a heatmap using seaborn\n",
    "plt.figure(figsize=(8, 6))\n",
    "sns.heatmap(correlation_matrix, annot=True, cmap='coolwarm', fmt='.1f', linewidths=0.8)\n",
    "plt.title('Correlation Heatmap')\n",
    "plt.show()\n",
    "\n",
    "del df_toPandas"
   ]
  },
  {
   "cell_type": "code",
   "execution_count": null,
   "id": "f9ea29fb",
   "metadata": {},
   "outputs": [],
   "source": [
    "# Add features here for clustering. They should be independent or unrelated features\n",
    "feature_inputs = ['UserAcceleration', 'ImputedSpeedInKmHr']\n",
    "# feature_inputs = ['Gravity' ,'UserAcceleration', 'ImputedSpeedInKmHr']\n",
    "# feature_inputs = ['UserAcceleration']"
   ]
  },
  {
   "cell_type": "markdown",
   "id": "85ab2434",
   "metadata": {},
   "source": [
    "## Data Preparation for clustering:\n",
    "\n",
    "Vectorize features and standard scaling"
   ]
  },
  {
   "cell_type": "code",
   "execution_count": null,
   "id": "ddebf772",
   "metadata": {},
   "outputs": [],
   "source": [
    "from pyspark.ml.feature import StringIndexer\n",
    "from pyspark.ml.feature import VectorAssembler\n",
    "from pyspark.ml.feature import StandardScaler\n",
    "\n",
    "# Vectorize the features into a numpy array so that it will be contained in a single column\n",
    "assembler = VectorAssembler(inputCols=feature_inputs, outputCol='features')\n",
    "df = assembler.transform(df)\n",
    "\n",
    "# Initialize the StandardScaler\n",
    "scaler = StandardScaler(inputCol='features', outputCol=\"scaledfeatures\", withMean=True, withStd=True)\n",
    "\n",
    "# Fit and transform the data\n",
    "scaler_model = scaler.fit(df)\n",
    "df = scaler_model.transform(df)\n",
    "\n",
    "# Show the scaled data\n",
    "df.select(\"TripLogId\", \"Timestamp\", \"scaledfeatures\").show()"
   ]
  },
  {
   "cell_type": "markdown",
   "id": "29fd8842",
   "metadata": {},
   "source": [
    "### Clustering - K-Means"
   ]
  },
  {
   "cell_type": "code",
   "execution_count": null,
   "id": "b0ed60c5",
   "metadata": {},
   "outputs": [],
   "source": [
    "SEED_VALUE = 42\n",
    "\n",
    "from pyspark.ml.clustering import KMeans\n",
    "\n",
    "# Calculate variance for different numbers of clusters\n",
    "variances = []\n",
    "for k in range(2, 11):\n",
    "    elbow_kmeans = KMeans(featuresCol='features', k=k, seed=42)\n",
    "    elbow_model = elbow_kmeans.fit(df)\n",
    "    cost = elbow_model.summary.trainingCost\n",
    "    variances.append(cost)\n",
    "\n",
    "# Plot the elbow curve\n",
    "plt.plot(range(2, 11), variances, marker='o')\n",
    "plt.title('Elbow Method for Optimal k (PySpark)')\n",
    "plt.xlabel('Number of Clusters (k)')\n",
    "plt.ylabel('Variance')\n",
    "plt.show()"
   ]
  },
  {
   "cell_type": "code",
   "execution_count": null,
   "id": "ea9335f7",
   "metadata": {},
   "outputs": [],
   "source": [
    "# Specify the number of clusters (K)\n",
    "num_clusters = 3\n",
    "colors = ['b', 'r', 'g']"
   ]
  },
  {
   "cell_type": "code",
   "execution_count": null,
   "id": "b8be8dd3",
   "metadata": {},
   "outputs": [],
   "source": [
    "# Fit a K-Means model to the feature vector\n",
    "kmeans = KMeans(k=num_clusters, seed=SEED_VALUE)\n",
    "model = kmeans.fit(df)\n",
    "\n",
    "# Predict cluster labels for the data points\n",
    "predict_df = model.transform(df)\n",
    "\n",
    "# Visualize the clusters\n",
    "cluster_centers = model.clusterCenters()\n",
    "\n",
    "# Calculate the number of clusters\n",
    "num_clusters = len(cluster_centers)\n",
    "\n",
    "# Create a subplot grid with 2 row and 'num_clusters' 2 columns\n",
    "# fig, axes = plt.subplots(2, (num_clusters // 2), figsize=(15, 15))\n",
    "fig, axes = plt.subplots(1, num_clusters, figsize=(30, 10))\n",
    "\n",
    "# Flatten the 2x2 array of axes to iterate over each subplot\n",
    "# axes = axes.flatten()\n",
    "\n",
    "for cluster_id, center in enumerate(cluster_centers):\n",
    "    cluster_data = predict_df.filter(predict_df[\"prediction\"] == cluster_id)\n",
    "    ax = axes[cluster_id]\n",
    "    ax.scatter(\n",
    "        cluster_data.select(\"Longitude\").rdd.flatMap(lambda x: x).collect(),\n",
    "        cluster_data.select(\"Latitude\").rdd.flatMap(lambda x: x).collect(),\n",
    "        c=colors[cluster_id],\n",
    "        label=f'Cluster {cluster_id}',\n",
    "        s=1\n",
    "    )\n",
    "    ax.set_xlabel('Longitude')\n",
    "    ax.set_ylabel('Latitude')\n",
    "    ax.set_title(f'Geospatial K-Means Cluster {cluster_id}')\n",
    "    ax.legend()"
   ]
  },
  {
   "cell_type": "code",
   "execution_count": null,
   "id": "6b69aa56",
   "metadata": {
    "scrolled": true
   },
   "outputs": [],
   "source": [
    "# Access cluster centers (centroid coordinates)\n",
    "print(\"Cluster Centers:\")\n",
    "for cluster_id, center in enumerate(cluster_centers):\n",
    "    print(f\"Cluster {cluster_id}: {center}\")\n",
    "\n",
    "# Access cluster sizes\n",
    "cluster_sizes = predict_df.groupBy(\"prediction\").count()\n",
    "print(\"Cluster Sizes:\")\n",
    "cluster_sizes.show()"
   ]
  },
  {
   "cell_type": "markdown",
   "id": "e44ec924",
   "metadata": {},
   "source": [
    "### Clustering - Expectation Maximization Algorithm"
   ]
  },
  {
   "cell_type": "code",
   "execution_count": null,
   "id": "d4361020",
   "metadata": {},
   "outputs": [],
   "source": [
    "from pyspark.ml.clustering import GaussianMixture\n",
    "\n",
    "# Fit a Gaussian Mixture Model (GMM) using the EM algorithm to the feature vector\n",
    "gmm = GaussianMixture(k=num_clusters, seed=SEED_VALUE)\n",
    "model = gmm.fit(df)"
   ]
  },
  {
   "cell_type": "code",
   "execution_count": null,
   "id": "3a3cf7a7",
   "metadata": {},
   "outputs": [],
   "source": [
    "# Predict cluster labels for the data points\n",
    "predict_df = model.transform(df)\n",
    "\n",
    "# Visualize the clusters\n",
    "cluster_centers = model.gaussiansDF.select(\"mean\").collect()\n",
    "\n",
    "# Calculate the number of clusters\n",
    "num_clusters = len(cluster_centers)\n",
    "\n",
    "# Create a subplot grid with 2 row and 'num_clusters' 2 columns\n",
    "# fig, axes = plt.subplots(2, (num_clusters // 2), figsize=(15, 15))\n",
    "fig, axes = plt.subplots(1, (num_clusters), figsize=(30, 10))\n",
    "\n",
    "# Flatten the 2x2 array of axes to iterate over each subplot\n",
    "# axes = axes.flatten()\n",
    "\n",
    "for cluster_id, center in enumerate(cluster_centers):\n",
    "    cluster_data = predict_df.filter(predict_df[\"prediction\"] == cluster_id)\n",
    "    ax = axes[cluster_id]\n",
    "    ax.scatter(cluster_data.select(\"Longitude\").rdd.flatMap(lambda x: x).collect(),\n",
    "               cluster_data.select(\"Latitude\").rdd.flatMap(lambda x: x).collect(),\n",
    "               c=colors[cluster_id], label=f'Cluster {cluster_id}', s=1)\n",
    "    ax.set_xlabel('Longitude')\n",
    "    ax.set_ylabel('Latitude')\n",
    "    ax.set_title(f'Geospatial GMM Cluster {cluster_id}')\n",
    "    ax.legend()"
   ]
  },
  {
   "cell_type": "code",
   "execution_count": null,
   "id": "fd76fd8a",
   "metadata": {},
   "outputs": [],
   "source": [
    "# Visualize the clusters\n",
    "colors = ['b', 'g', 'r']\n",
    "for cluster_id in [0, 1, 2]: # 26th April clusters\n",
    "    cluster_data = predict_df[predict_df['prediction'] == cluster_id]\n",
    "    plt.scatter(cluster_data.select(\"Longitude\").rdd.flatMap(lambda x: x).collect(),\n",
    "                cluster_data.select(\"Latitude\").rdd.flatMap(lambda x: x).collect(),\n",
    "                c=colors[cluster_id], label=f'Cluster {cluster_id}', s= 1)\n",
    "\n",
    "plt.xlabel('Longitude')\n",
    "plt.ylabel('Latitude')\n",
    "plt.title('Geospatial GMM Clustering (All clusters combined)')\n",
    "plt.legend()\n",
    "plt.show()"
   ]
  },
  {
   "cell_type": "code",
   "execution_count": null,
   "id": "d42fe8ab",
   "metadata": {},
   "outputs": [],
   "source": [
    "# Access cluster parameters (means and covariances)\n",
    "cluster_means = model.gaussiansDF.select(\"mean\").collect()\n",
    "cluster_covariances = model.gaussiansDF.select(\"cov\").collect()\n",
    "print(\"Cluster Means:\")\n",
    "for cluster_id, mean in enumerate(cluster_means):\n",
    "    print(f\"Cluster {cluster_id}: {mean[0]}\")\n",
    "print(\"Cluster Covariances:\")\n",
    "for cluster_id, cov in enumerate(cluster_covariances):\n",
    "    print(f\"Cluster {cluster_id}: {cov[0]}\")\n",
    "    \n",
    "# Access cluster sizes\n",
    "cluster_sizes = predict_df.groupBy(\"prediction\").count()\n",
    "print(\"Cluster Sizes:\")\n",
    "cluster_sizes.show()"
   ]
  },
  {
   "cell_type": "code",
   "execution_count": null,
   "id": "4667a045",
   "metadata": {},
   "outputs": [],
   "source": [
    "import pandas as pd\n",
    "from scipy import stats\n",
    "\n",
    "# Convert Spark DataFrame to Pandas DataFrame\n",
    "pandas_df = predict_df.toPandas()\n",
    "\n",
    "# Use below features for ANOVA box-plot\n",
    "features = [\"UserAcceleration\", \"RotationRate\", \"ImputedSpeedInKmHr\"]\n",
    "\n",
    "for feature in features:\n",
    "    # Perform one-way ANOVA using Pandas\n",
    "    grouped_data = [pandas_df[pandas_df[\"prediction\"] == group][feature] \n",
    "                    for group in pandas_df[\"prediction\"].unique()]\n",
    "    f_statistic, p_value = stats.f_oneway(*grouped_data)\n",
    "    ax = pandas_df.boxplot(column=feature, by=\"prediction\", grid=False)\n",
    "    \n",
    "    # Set plot labels and title\n",
    "    ax.set_xlabel('Clusters')\n",
    "    ax.set_ylabel(feature)\n",
    "    ax.set_title(f'ANOVA of {feature}')\n",
    "    ax.grid(axis='y', linestyle='--', alpha=0.7)\n",
    "\n",
    "    # Add text with F-statistic and p-value\n",
    "    textstr = f'F-Statistic: {f_statistic:.2f}\\n p-value: {p_value:.4f}'\n",
    "    ax.text(0.75, 0.85, textstr, transform=ax.transAxes, fontsize=10, verticalalignment='top')\n"
   ]
  },
  {
   "cell_type": "code",
   "execution_count": null,
   "id": "1035f72a",
   "metadata": {},
   "outputs": [],
   "source": [
    "from pyspark.sql import SparkSession\n",
    "from pyspark.sql.functions import radians, sum, count\n",
    "\n",
    "cluster_centroids = []\n",
    "\n",
    "for cluster in range(num_clusters):\n",
    "    cluster_criteria = (predict_df['prediction'] == cluster)\n",
    "    df = predict_df[cluster_criteria]\n",
    "\n",
    "    # Convert degrees to radians\n",
    "    df = df.withColumn(\"latitude_rad\", radians(df[\"latitude\"]))\n",
    "    df = df.withColumn(\"longitude_rad\", radians(df[\"longitude\"]))\n",
    "\n",
    "    # Calculate the weighted sum of latitude and longitude\n",
    "    sum_lat = df.agg(sum(\"latitude_rad\")).collect()[0][0]\n",
    "    sum_lon = df.agg(sum(\"longitude_rad\")).collect()[0][0]\n",
    "\n",
    "    # Calculate the total weight (number of points)\n",
    "    total_weight = df.agg(count(\"*\").alias(\"count\")).collect()[0][\"count\"]\n",
    "\n",
    "    # Calculate the centroid in radians\n",
    "    centroid_lat = sum_lat / total_weight\n",
    "    centroid_lon = sum_lon / total_weight\n",
    "    \n",
    "    # Convert the centroid back to degrees\n",
    "    cluster_centroids.append((centroid_lat * (180/3.14159), centroid_lon * (180/3.14159)))\n",
    "\n",
    "    print(\"Centroid \", cluster, \"(Latitude, Longitude):\", cluster_centroids[cluster])\n"
   ]
  },
  {
   "cell_type": "code",
   "execution_count": null,
   "id": "eb6eae63",
   "metadata": {},
   "outputs": [],
   "source": [
    "import os\n",
    "\n",
    "# Specify the export location\n",
    "export_path = \"model/\" \n",
    "\n",
    "# Check if the folder exists\n",
    "if not os.path.exists(export_path):\n",
    "    # Save the GMM model to the export location\n",
    "    model.save(export_path)"
   ]
  },
  {
   "cell_type": "code",
   "execution_count": null,
   "id": "b72adf40",
   "metadata": {},
   "outputs": [],
   "source": [
    "pandas_df.head(50)"
   ]
  },
  {
   "cell_type": "code",
   "execution_count": null,
   "id": "9ecf48bf",
   "metadata": {},
   "outputs": [],
   "source": [
    "pandas_df.to_csv(f'trips_final_{REPORTING_DATE}', index=False)"
   ]
  }
 ],
 "metadata": {
  "kernelspec": {
   "display_name": "Python 3 (ipykernel)",
   "language": "python",
   "name": "python3"
  },
  "language_info": {
   "codemirror_mode": {
    "name": "ipython",
    "version": 3
   },
   "file_extension": ".py",
   "mimetype": "text/x-python",
   "name": "python",
   "nbconvert_exporter": "python",
   "pygments_lexer": "ipython3",
   "version": "3.9.13"
  }
 },
 "nbformat": 4,
 "nbformat_minor": 5
}
